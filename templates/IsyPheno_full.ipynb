{
 "cells": [
  {
   "cell_type": "markdown",
   "metadata": {},
   "source": [
    "# Code for creating phenotype file for running GWAS in Regenie\n",
    "\n",
    "The phenotype file needs to include the following in its header:\n",
    "\n",
    "* FID - family identifier (in this case since the participants are unrelated we set the FID to 0 for all rows so that Regenie accepts the file as input)\n",
    "* IID - the individual identifier number (i.e. subjectID in the provided LASI-DAD folder)\n",
    "* Phenotypes (can have multiple columns for separate phenotypes that you want to run simultaneous GWAS on) - we are using Neurocognitive Disorder (ncd); high blood pressure (hypertension); type 2 diabetes (T2DM); coronary heart disease (CHD); stroke\n",
    "    * Because NCD is a continuous phenotype (0,1,2) it is included in the continuous pheno tsv, then we produce a separate folder with all the remaining binary phenotypes. This is because Regenie will need to be run separately to account for doing linear versus logistic regression.\n",
    "    \n",
    "**Note to NEUROHACK facilitators: This code is written for use with the full dataset for LASI-DAD to run it in the full LASI-DAD data**"
   ]
  },
  {
   "cell_type": "code",
   "execution_count": 1,
   "metadata": {},
   "outputs": [
    {
     "name": "stderr",
     "output_type": "stream",
     "text": [
      "\n",
      "Attaching package: ‘dplyr’\n",
      "\n",
      "\n",
      "The following objects are masked from ‘package:stats’:\n",
      "\n",
      "    filter, lag\n",
      "\n",
      "\n",
      "The following objects are masked from ‘package:base’:\n",
      "\n",
      "    intersect, setdiff, setequal, union\n",
      "\n",
      "\n",
      "\n",
      "Attaching package: ‘data.table’\n",
      "\n",
      "\n",
      "The following objects are masked from ‘package:dplyr’:\n",
      "\n",
      "    between, first, last\n",
      "\n",
      "\n"
     ]
    }
   ],
   "source": [
    "library(dplyr)\n",
    "library(data.table)"
   ]
  },
  {
   "cell_type": "code",
   "execution_count": 7,
   "metadata": {},
   "outputs": [
    {
     "data": {
      "text/html": [
       "<table class=\"dataframe\">\n",
       "<caption>A data.table: 6 × 11</caption>\n",
       "<thead>\n",
       "\t<tr><th scope=col>subjectID</th><th scope=col>r1agey</th><th scope=col>ragender</th><th scope=col>raeducl</th><th scope=col>ncd</th><th scope=col>fm_ad_dad</th><th scope=col>fm_ad_mom</th><th scope=col>rs429358</th><th scope=col>rs7412</th><th scope=col>unrelated</th><th scope=col>FID</th></tr>\n",
       "\t<tr><th scope=col>&lt;chr&gt;</th><th scope=col>&lt;int&gt;</th><th scope=col>&lt;chr&gt;</th><th scope=col>&lt;chr&gt;</th><th scope=col>&lt;int&gt;</th><th scope=col>&lt;int&gt;</th><th scope=col>&lt;int&gt;</th><th scope=col>&lt;dbl&gt;</th><th scope=col>&lt;dbl&gt;</th><th scope=col>&lt;int&gt;</th><th scope=col>&lt;dbl&gt;</th></tr>\n",
       "</thead>\n",
       "<tbody>\n",
       "\t<tr><td>L0001</td><td>70</td><td>1.male  </td><td>1.less than lower secondary            </td><td>0</td><td>0</td><td>0</td><td>0</td><td>0</td><td>1</td><td>0</td></tr>\n",
       "\t<tr><td>L0002</td><td>84</td><td><span style=white-space:pre-wrap>1.male  </span></td><td>2.upper secondary &amp; vocational training</td><td>0</td><td>0</td><td>0</td><td>0</td><td>0</td><td>1</td><td>0</td></tr>\n",
       "\t<tr><td>L0003</td><td>62</td><td><span style=white-space:pre-wrap>1.male  </span></td><td>2.upper secondary &amp; vocational training</td><td>0</td><td>0</td><td>0</td><td>0</td><td>0</td><td>1</td><td>0</td></tr>\n",
       "\t<tr><td>L0004</td><td>62</td><td>2.female</td><td>2.upper secondary &amp; vocational training</td><td>0</td><td>0</td><td>0</td><td>0</td><td>0</td><td>1</td><td>0</td></tr>\n",
       "\t<tr><td>L0005</td><td>68</td><td>2.female</td><td>1.less than lower secondary            </td><td>0</td><td>0</td><td>0</td><td>0</td><td>0</td><td>1</td><td>0</td></tr>\n",
       "\t<tr><td>L0006</td><td>66</td><td>2.female</td><td>1.less than lower secondary            </td><td>1</td><td>0</td><td>0</td><td>0</td><td>0</td><td>1</td><td>0</td></tr>\n",
       "</tbody>\n",
       "</table>\n"
      ],
      "text/latex": [
       "A data.table: 6 × 11\n",
       "\\begin{tabular}{lllllllllll}\n",
       " subjectID & r1agey & ragender & raeducl & ncd & fm\\_ad\\_dad & fm\\_ad\\_mom & rs429358 & rs7412 & unrelated & FID\\\\\n",
       " <chr> & <int> & <chr> & <chr> & <int> & <int> & <int> & <dbl> & <dbl> & <int> & <dbl>\\\\\n",
       "\\hline\n",
       "\t L0001 & 70 & 1.male   & 1.less than lower secondary             & 0 & 0 & 0 & 0 & 0 & 1 & 0\\\\\n",
       "\t L0002 & 84 & 1.male   & 2.upper secondary \\& vocational training & 0 & 0 & 0 & 0 & 0 & 1 & 0\\\\\n",
       "\t L0003 & 62 & 1.male   & 2.upper secondary \\& vocational training & 0 & 0 & 0 & 0 & 0 & 1 & 0\\\\\n",
       "\t L0004 & 62 & 2.female & 2.upper secondary \\& vocational training & 0 & 0 & 0 & 0 & 0 & 1 & 0\\\\\n",
       "\t L0005 & 68 & 2.female & 1.less than lower secondary             & 0 & 0 & 0 & 0 & 0 & 1 & 0\\\\\n",
       "\t L0006 & 66 & 2.female & 1.less than lower secondary             & 1 & 0 & 0 & 0 & 0 & 1 & 0\\\\\n",
       "\\end{tabular}\n"
      ],
      "text/markdown": [
       "\n",
       "A data.table: 6 × 11\n",
       "\n",
       "| subjectID &lt;chr&gt; | r1agey &lt;int&gt; | ragender &lt;chr&gt; | raeducl &lt;chr&gt; | ncd &lt;int&gt; | fm_ad_dad &lt;int&gt; | fm_ad_mom &lt;int&gt; | rs429358 &lt;dbl&gt; | rs7412 &lt;dbl&gt; | unrelated &lt;int&gt; | FID &lt;dbl&gt; |\n",
       "|---|---|---|---|---|---|---|---|---|---|---|\n",
       "| L0001 | 70 | 1.male   | 1.less than lower secondary             | 0 | 0 | 0 | 0 | 0 | 1 | 0 |\n",
       "| L0002 | 84 | 1.male   | 2.upper secondary &amp; vocational training | 0 | 0 | 0 | 0 | 0 | 1 | 0 |\n",
       "| L0003 | 62 | 1.male   | 2.upper secondary &amp; vocational training | 0 | 0 | 0 | 0 | 0 | 1 | 0 |\n",
       "| L0004 | 62 | 2.female | 2.upper secondary &amp; vocational training | 0 | 0 | 0 | 0 | 0 | 1 | 0 |\n",
       "| L0005 | 68 | 2.female | 1.less than lower secondary             | 0 | 0 | 0 | 0 | 0 | 1 | 0 |\n",
       "| L0006 | 66 | 2.female | 1.less than lower secondary             | 1 | 0 | 0 | 0 | 0 | 1 | 0 |\n",
       "\n"
      ],
      "text/plain": [
       "  subjectID r1agey ragender raeducl                                 ncd\n",
       "1 L0001     70     1.male   1.less than lower secondary             0  \n",
       "2 L0002     84     1.male   2.upper secondary & vocational training 0  \n",
       "3 L0003     62     1.male   2.upper secondary & vocational training 0  \n",
       "4 L0004     62     2.female 2.upper secondary & vocational training 0  \n",
       "5 L0005     68     2.female 1.less than lower secondary             0  \n",
       "6 L0006     66     2.female 1.less than lower secondary             1  \n",
       "  fm_ad_dad fm_ad_mom rs429358 rs7412 unrelated FID\n",
       "1 0         0         0        0      1         0  \n",
       "2 0         0         0        0      1         0  \n",
       "3 0         0         0        0      1         0  \n",
       "4 0         0         0        0      1         0  \n",
       "5 0         0         0        0      1         0  \n",
       "6 0         0         0        0      1         0  "
      ]
     },
     "metadata": {},
     "output_type": "display_data"
    },
    {
     "data": {
      "text/html": [
       "<table class=\"dataframe\">\n",
       "<caption>A data.table: 6 × 13</caption>\n",
       "<thead>\n",
       "\t<tr><th scope=col>subjectID</th><th scope=col>r1hibpe</th><th scope=col>r1diabe</th><th scope=col>r1hearte</th><th scope=col>r1stroke</th><th scope=col>r1psyche</th><th scope=col>r1alzdeme</th><th scope=col>r1conhrtfe</th><th scope=col>r1hrtatte</th><th scope=col>r1hrtrhme</th><th scope=col>r1hrtatt</th><th scope=col>r1mbmi</th><th scope=col>r1mbmicat</th></tr>\n",
       "\t<tr><th scope=col>&lt;chr&gt;</th><th scope=col>&lt;int&gt;</th><th scope=col>&lt;int&gt;</th><th scope=col>&lt;int&gt;</th><th scope=col>&lt;int&gt;</th><th scope=col>&lt;int&gt;</th><th scope=col>&lt;int&gt;</th><th scope=col>&lt;int&gt;</th><th scope=col>&lt;int&gt;</th><th scope=col>&lt;int&gt;</th><th scope=col>&lt;int&gt;</th><th scope=col>&lt;dbl&gt;</th><th scope=col>&lt;int&gt;</th></tr>\n",
       "</thead>\n",
       "<tbody>\n",
       "\t<tr><td>L0001</td><td>1</td><td>1</td><td>0</td><td>0</td><td>0</td><td>0</td><td>0</td><td>0</td><td>0</td><td> 0</td><td>24.86436</td><td>2</td></tr>\n",
       "\t<tr><td>L0002</td><td>0</td><td>1</td><td>0</td><td>0</td><td>0</td><td>0</td><td>0</td><td>0</td><td>0</td><td> 0</td><td>18.67785</td><td>2</td></tr>\n",
       "\t<tr><td>L0003</td><td>1</td><td>0</td><td>1</td><td>0</td><td>0</td><td>0</td><td>0</td><td>1</td><td>0</td><td>NA</td><td>20.25111</td><td>2</td></tr>\n",
       "\t<tr><td>L0004</td><td>0</td><td>0</td><td>0</td><td>0</td><td>0</td><td>0</td><td>0</td><td>0</td><td>0</td><td> 0</td><td>19.51196</td><td>2</td></tr>\n",
       "\t<tr><td>L0005</td><td>1</td><td>0</td><td>0</td><td>0</td><td>0</td><td>0</td><td>0</td><td>0</td><td>0</td><td> 0</td><td>32.00309</td><td>4</td></tr>\n",
       "\t<tr><td>L0006</td><td>0</td><td>0</td><td>0</td><td>0</td><td>0</td><td>0</td><td>0</td><td>0</td><td>0</td><td> 0</td><td>15.13764</td><td>1</td></tr>\n",
       "</tbody>\n",
       "</table>\n"
      ],
      "text/latex": [
       "A data.table: 6 × 13\n",
       "\\begin{tabular}{lllllllllllll}\n",
       " subjectID & r1hibpe & r1diabe & r1hearte & r1stroke & r1psyche & r1alzdeme & r1conhrtfe & r1hrtatte & r1hrtrhme & r1hrtatt & r1mbmi & r1mbmicat\\\\\n",
       " <chr> & <int> & <int> & <int> & <int> & <int> & <int> & <int> & <int> & <int> & <int> & <dbl> & <int>\\\\\n",
       "\\hline\n",
       "\t L0001 & 1 & 1 & 0 & 0 & 0 & 0 & 0 & 0 & 0 &  0 & 24.86436 & 2\\\\\n",
       "\t L0002 & 0 & 1 & 0 & 0 & 0 & 0 & 0 & 0 & 0 &  0 & 18.67785 & 2\\\\\n",
       "\t L0003 & 1 & 0 & 1 & 0 & 0 & 0 & 0 & 1 & 0 & NA & 20.25111 & 2\\\\\n",
       "\t L0004 & 0 & 0 & 0 & 0 & 0 & 0 & 0 & 0 & 0 &  0 & 19.51196 & 2\\\\\n",
       "\t L0005 & 1 & 0 & 0 & 0 & 0 & 0 & 0 & 0 & 0 &  0 & 32.00309 & 4\\\\\n",
       "\t L0006 & 0 & 0 & 0 & 0 & 0 & 0 & 0 & 0 & 0 &  0 & 15.13764 & 1\\\\\n",
       "\\end{tabular}\n"
      ],
      "text/markdown": [
       "\n",
       "A data.table: 6 × 13\n",
       "\n",
       "| subjectID &lt;chr&gt; | r1hibpe &lt;int&gt; | r1diabe &lt;int&gt; | r1hearte &lt;int&gt; | r1stroke &lt;int&gt; | r1psyche &lt;int&gt; | r1alzdeme &lt;int&gt; | r1conhrtfe &lt;int&gt; | r1hrtatte &lt;int&gt; | r1hrtrhme &lt;int&gt; | r1hrtatt &lt;int&gt; | r1mbmi &lt;dbl&gt; | r1mbmicat &lt;int&gt; |\n",
       "|---|---|---|---|---|---|---|---|---|---|---|---|---|\n",
       "| L0001 | 1 | 1 | 0 | 0 | 0 | 0 | 0 | 0 | 0 |  0 | 24.86436 | 2 |\n",
       "| L0002 | 0 | 1 | 0 | 0 | 0 | 0 | 0 | 0 | 0 |  0 | 18.67785 | 2 |\n",
       "| L0003 | 1 | 0 | 1 | 0 | 0 | 0 | 0 | 1 | 0 | NA | 20.25111 | 2 |\n",
       "| L0004 | 0 | 0 | 0 | 0 | 0 | 0 | 0 | 0 | 0 |  0 | 19.51196 | 2 |\n",
       "| L0005 | 1 | 0 | 0 | 0 | 0 | 0 | 0 | 0 | 0 |  0 | 32.00309 | 4 |\n",
       "| L0006 | 0 | 0 | 0 | 0 | 0 | 0 | 0 | 0 | 0 |  0 | 15.13764 | 1 |\n",
       "\n"
      ],
      "text/plain": [
       "  subjectID r1hibpe r1diabe r1hearte r1stroke r1psyche r1alzdeme r1conhrtfe\n",
       "1 L0001     1       1       0        0        0        0         0         \n",
       "2 L0002     0       1       0        0        0        0         0         \n",
       "3 L0003     1       0       1        0        0        0         0         \n",
       "4 L0004     0       0       0        0        0        0         0         \n",
       "5 L0005     1       0       0        0        0        0         0         \n",
       "6 L0006     0       0       0        0        0        0         0         \n",
       "  r1hrtatte r1hrtrhme r1hrtatt r1mbmi   r1mbmicat\n",
       "1 0         0          0       24.86436 2        \n",
       "2 0         0          0       18.67785 2        \n",
       "3 1         0         NA       20.25111 2        \n",
       "4 0         0          0       19.51196 2        \n",
       "5 0         0          0       32.00309 4        \n",
       "6 0         0          0       15.13764 1        "
      ]
     },
     "metadata": {},
     "output_type": "display_data"
    }
   ],
   "source": [
    "# load provided LASI-DAD files\n",
    "pheno_main <- fread(\"LASI_DAD_Neurohack_Phenotype_full.csv\")\n",
    "pheno_main$FID = 0\n",
    "pheno_comorbid <- fread(\"LASI_DAD_Neurohack_health_pheno_full.csv\")\n",
    "head(pheno_main)\n",
    "head(pheno_comorbid)"
   ]
  },
  {
   "cell_type": "code",
   "execution_count": 8,
   "metadata": {},
   "outputs": [
    {
     "data": {
      "text/html": [
       "<table class=\"dataframe\">\n",
       "<caption>A data.table: 6 × 23</caption>\n",
       "<thead>\n",
       "\t<tr><th scope=col>subjectID</th><th scope=col>r1agey</th><th scope=col>ragender</th><th scope=col>raeducl</th><th scope=col>ncd</th><th scope=col>fm_ad_dad</th><th scope=col>fm_ad_mom</th><th scope=col>rs429358</th><th scope=col>rs7412</th><th scope=col>unrelated</th><th scope=col>⋯</th><th scope=col>r1hearte</th><th scope=col>r1stroke</th><th scope=col>r1psyche</th><th scope=col>r1alzdeme</th><th scope=col>r1conhrtfe</th><th scope=col>r1hrtatte</th><th scope=col>r1hrtrhme</th><th scope=col>r1hrtatt</th><th scope=col>r1mbmi</th><th scope=col>r1mbmicat</th></tr>\n",
       "\t<tr><th scope=col>&lt;chr&gt;</th><th scope=col>&lt;int&gt;</th><th scope=col>&lt;chr&gt;</th><th scope=col>&lt;chr&gt;</th><th scope=col>&lt;int&gt;</th><th scope=col>&lt;int&gt;</th><th scope=col>&lt;int&gt;</th><th scope=col>&lt;dbl&gt;</th><th scope=col>&lt;dbl&gt;</th><th scope=col>&lt;int&gt;</th><th scope=col>⋯</th><th scope=col>&lt;int&gt;</th><th scope=col>&lt;int&gt;</th><th scope=col>&lt;int&gt;</th><th scope=col>&lt;int&gt;</th><th scope=col>&lt;int&gt;</th><th scope=col>&lt;int&gt;</th><th scope=col>&lt;int&gt;</th><th scope=col>&lt;int&gt;</th><th scope=col>&lt;dbl&gt;</th><th scope=col>&lt;int&gt;</th></tr>\n",
       "</thead>\n",
       "<tbody>\n",
       "\t<tr><td>L0001</td><td>70</td><td>1.male  </td><td>1.less than lower secondary            </td><td>0</td><td>0</td><td>0</td><td>0</td><td>0</td><td>1</td><td>⋯</td><td>0</td><td>0</td><td>0</td><td>0</td><td>0</td><td>0</td><td>0</td><td> 0</td><td>24.86436</td><td>2</td></tr>\n",
       "\t<tr><td>L0002</td><td>84</td><td><span style=white-space:pre-wrap>1.male  </span></td><td>2.upper secondary &amp; vocational training</td><td>0</td><td>0</td><td>0</td><td>0</td><td>0</td><td>1</td><td>⋯</td><td>0</td><td>0</td><td>0</td><td>0</td><td>0</td><td>0</td><td>0</td><td> 0</td><td>18.67785</td><td>2</td></tr>\n",
       "\t<tr><td>L0003</td><td>62</td><td><span style=white-space:pre-wrap>1.male  </span></td><td>2.upper secondary &amp; vocational training</td><td>0</td><td>0</td><td>0</td><td>0</td><td>0</td><td>1</td><td>⋯</td><td>1</td><td>0</td><td>0</td><td>0</td><td>0</td><td>1</td><td>0</td><td>NA</td><td>20.25111</td><td>2</td></tr>\n",
       "\t<tr><td>L0004</td><td>62</td><td>2.female</td><td>2.upper secondary &amp; vocational training</td><td>0</td><td>0</td><td>0</td><td>0</td><td>0</td><td>1</td><td>⋯</td><td>0</td><td>0</td><td>0</td><td>0</td><td>0</td><td>0</td><td>0</td><td> 0</td><td>19.51196</td><td>2</td></tr>\n",
       "\t<tr><td>L0005</td><td>68</td><td>2.female</td><td>1.less than lower secondary            </td><td>0</td><td>0</td><td>0</td><td>0</td><td>0</td><td>1</td><td>⋯</td><td>0</td><td>0</td><td>0</td><td>0</td><td>0</td><td>0</td><td>0</td><td> 0</td><td>32.00309</td><td>4</td></tr>\n",
       "\t<tr><td>L0006</td><td>66</td><td>2.female</td><td>1.less than lower secondary            </td><td>1</td><td>0</td><td>0</td><td>0</td><td>0</td><td>1</td><td>⋯</td><td>0</td><td>0</td><td>0</td><td>0</td><td>0</td><td>0</td><td>0</td><td> 0</td><td>15.13764</td><td>1</td></tr>\n",
       "</tbody>\n",
       "</table>\n"
      ],
      "text/latex": [
       "A data.table: 6 × 23\n",
       "\\begin{tabular}{lllllllllllllllllllll}\n",
       " subjectID & r1agey & ragender & raeducl & ncd & fm\\_ad\\_dad & fm\\_ad\\_mom & rs429358 & rs7412 & unrelated & ⋯ & r1hearte & r1stroke & r1psyche & r1alzdeme & r1conhrtfe & r1hrtatte & r1hrtrhme & r1hrtatt & r1mbmi & r1mbmicat\\\\\n",
       " <chr> & <int> & <chr> & <chr> & <int> & <int> & <int> & <dbl> & <dbl> & <int> & ⋯ & <int> & <int> & <int> & <int> & <int> & <int> & <int> & <int> & <dbl> & <int>\\\\\n",
       "\\hline\n",
       "\t L0001 & 70 & 1.male   & 1.less than lower secondary             & 0 & 0 & 0 & 0 & 0 & 1 & ⋯ & 0 & 0 & 0 & 0 & 0 & 0 & 0 &  0 & 24.86436 & 2\\\\\n",
       "\t L0002 & 84 & 1.male   & 2.upper secondary \\& vocational training & 0 & 0 & 0 & 0 & 0 & 1 & ⋯ & 0 & 0 & 0 & 0 & 0 & 0 & 0 &  0 & 18.67785 & 2\\\\\n",
       "\t L0003 & 62 & 1.male   & 2.upper secondary \\& vocational training & 0 & 0 & 0 & 0 & 0 & 1 & ⋯ & 1 & 0 & 0 & 0 & 0 & 1 & 0 & NA & 20.25111 & 2\\\\\n",
       "\t L0004 & 62 & 2.female & 2.upper secondary \\& vocational training & 0 & 0 & 0 & 0 & 0 & 1 & ⋯ & 0 & 0 & 0 & 0 & 0 & 0 & 0 &  0 & 19.51196 & 2\\\\\n",
       "\t L0005 & 68 & 2.female & 1.less than lower secondary             & 0 & 0 & 0 & 0 & 0 & 1 & ⋯ & 0 & 0 & 0 & 0 & 0 & 0 & 0 &  0 & 32.00309 & 4\\\\\n",
       "\t L0006 & 66 & 2.female & 1.less than lower secondary             & 1 & 0 & 0 & 0 & 0 & 1 & ⋯ & 0 & 0 & 0 & 0 & 0 & 0 & 0 &  0 & 15.13764 & 1\\\\\n",
       "\\end{tabular}\n"
      ],
      "text/markdown": [
       "\n",
       "A data.table: 6 × 23\n",
       "\n",
       "| subjectID &lt;chr&gt; | r1agey &lt;int&gt; | ragender &lt;chr&gt; | raeducl &lt;chr&gt; | ncd &lt;int&gt; | fm_ad_dad &lt;int&gt; | fm_ad_mom &lt;int&gt; | rs429358 &lt;dbl&gt; | rs7412 &lt;dbl&gt; | unrelated &lt;int&gt; | ⋯ ⋯ | r1hearte &lt;int&gt; | r1stroke &lt;int&gt; | r1psyche &lt;int&gt; | r1alzdeme &lt;int&gt; | r1conhrtfe &lt;int&gt; | r1hrtatte &lt;int&gt; | r1hrtrhme &lt;int&gt; | r1hrtatt &lt;int&gt; | r1mbmi &lt;dbl&gt; | r1mbmicat &lt;int&gt; |\n",
       "|---|---|---|---|---|---|---|---|---|---|---|---|---|---|---|---|---|---|---|---|---|\n",
       "| L0001 | 70 | 1.male   | 1.less than lower secondary             | 0 | 0 | 0 | 0 | 0 | 1 | ⋯ | 0 | 0 | 0 | 0 | 0 | 0 | 0 |  0 | 24.86436 | 2 |\n",
       "| L0002 | 84 | 1.male   | 2.upper secondary &amp; vocational training | 0 | 0 | 0 | 0 | 0 | 1 | ⋯ | 0 | 0 | 0 | 0 | 0 | 0 | 0 |  0 | 18.67785 | 2 |\n",
       "| L0003 | 62 | 1.male   | 2.upper secondary &amp; vocational training | 0 | 0 | 0 | 0 | 0 | 1 | ⋯ | 1 | 0 | 0 | 0 | 0 | 1 | 0 | NA | 20.25111 | 2 |\n",
       "| L0004 | 62 | 2.female | 2.upper secondary &amp; vocational training | 0 | 0 | 0 | 0 | 0 | 1 | ⋯ | 0 | 0 | 0 | 0 | 0 | 0 | 0 |  0 | 19.51196 | 2 |\n",
       "| L0005 | 68 | 2.female | 1.less than lower secondary             | 0 | 0 | 0 | 0 | 0 | 1 | ⋯ | 0 | 0 | 0 | 0 | 0 | 0 | 0 |  0 | 32.00309 | 4 |\n",
       "| L0006 | 66 | 2.female | 1.less than lower secondary             | 1 | 0 | 0 | 0 | 0 | 1 | ⋯ | 0 | 0 | 0 | 0 | 0 | 0 | 0 |  0 | 15.13764 | 1 |\n",
       "\n"
      ],
      "text/plain": [
       "  subjectID r1agey ragender raeducl                                 ncd\n",
       "1 L0001     70     1.male   1.less than lower secondary             0  \n",
       "2 L0002     84     1.male   2.upper secondary & vocational training 0  \n",
       "3 L0003     62     1.male   2.upper secondary & vocational training 0  \n",
       "4 L0004     62     2.female 2.upper secondary & vocational training 0  \n",
       "5 L0005     68     2.female 1.less than lower secondary             0  \n",
       "6 L0006     66     2.female 1.less than lower secondary             1  \n",
       "  fm_ad_dad fm_ad_mom rs429358 rs7412 unrelated ⋯ r1hearte r1stroke r1psyche\n",
       "1 0         0         0        0      1         ⋯ 0        0        0       \n",
       "2 0         0         0        0      1         ⋯ 0        0        0       \n",
       "3 0         0         0        0      1         ⋯ 1        0        0       \n",
       "4 0         0         0        0      1         ⋯ 0        0        0       \n",
       "5 0         0         0        0      1         ⋯ 0        0        0       \n",
       "6 0         0         0        0      1         ⋯ 0        0        0       \n",
       "  r1alzdeme r1conhrtfe r1hrtatte r1hrtrhme r1hrtatt r1mbmi   r1mbmicat\n",
       "1 0         0          0         0          0       24.86436 2        \n",
       "2 0         0          0         0          0       18.67785 2        \n",
       "3 0         0          1         0         NA       20.25111 2        \n",
       "4 0         0          0         0          0       19.51196 2        \n",
       "5 0         0          0         0          0       32.00309 4        \n",
       "6 0         0          0         0          0       15.13764 1        "
      ]
     },
     "metadata": {},
     "output_type": "display_data"
    }
   ],
   "source": [
    "full_pheno <- merge(pheno_main, pheno_comorbid, by = \"subjectID\")\n",
    "head(full_pheno)\n"
   ]
  },
  {
   "cell_type": "code",
   "execution_count": 12,
   "metadata": {},
   "outputs": [
    {
     "data": {
      "text/html": [
       "<table class=\"dataframe\">\n",
       "<caption>A data.table: 6 × 7</caption>\n",
       "<thead>\n",
       "\t<tr><th scope=col>FID</th><th scope=col>IID</th><th scope=col>ncd</th><th scope=col>hypertension</th><th scope=col>T2DM</th><th scope=col>CHD</th><th scope=col>stroke</th></tr>\n",
       "\t<tr><th scope=col>&lt;dbl&gt;</th><th scope=col>&lt;chr&gt;</th><th scope=col>&lt;int&gt;</th><th scope=col>&lt;int&gt;</th><th scope=col>&lt;int&gt;</th><th scope=col>&lt;int&gt;</th><th scope=col>&lt;int&gt;</th></tr>\n",
       "</thead>\n",
       "<tbody>\n",
       "\t<tr><td>0</td><td>L0001</td><td>0</td><td>1</td><td>1</td><td>0</td><td>0</td></tr>\n",
       "\t<tr><td>0</td><td>L0002</td><td>0</td><td>0</td><td>1</td><td>0</td><td>0</td></tr>\n",
       "\t<tr><td>0</td><td>L0003</td><td>0</td><td>1</td><td>0</td><td>1</td><td>0</td></tr>\n",
       "\t<tr><td>0</td><td>L0004</td><td>0</td><td>0</td><td>0</td><td>0</td><td>0</td></tr>\n",
       "\t<tr><td>0</td><td>L0005</td><td>0</td><td>1</td><td>0</td><td>0</td><td>0</td></tr>\n",
       "\t<tr><td>0</td><td>L0006</td><td>1</td><td>0</td><td>0</td><td>0</td><td>0</td></tr>\n",
       "</tbody>\n",
       "</table>\n"
      ],
      "text/latex": [
       "A data.table: 6 × 7\n",
       "\\begin{tabular}{lllllll}\n",
       " FID & IID & ncd & hypertension & T2DM & CHD & stroke\\\\\n",
       " <dbl> & <chr> & <int> & <int> & <int> & <int> & <int>\\\\\n",
       "\\hline\n",
       "\t 0 & L0001 & 0 & 1 & 1 & 0 & 0\\\\\n",
       "\t 0 & L0002 & 0 & 0 & 1 & 0 & 0\\\\\n",
       "\t 0 & L0003 & 0 & 1 & 0 & 1 & 0\\\\\n",
       "\t 0 & L0004 & 0 & 0 & 0 & 0 & 0\\\\\n",
       "\t 0 & L0005 & 0 & 1 & 0 & 0 & 0\\\\\n",
       "\t 0 & L0006 & 1 & 0 & 0 & 0 & 0\\\\\n",
       "\\end{tabular}\n"
      ],
      "text/markdown": [
       "\n",
       "A data.table: 6 × 7\n",
       "\n",
       "| FID &lt;dbl&gt; | IID &lt;chr&gt; | ncd &lt;int&gt; | hypertension &lt;int&gt; | T2DM &lt;int&gt; | CHD &lt;int&gt; | stroke &lt;int&gt; |\n",
       "|---|---|---|---|---|---|---|\n",
       "| 0 | L0001 | 0 | 1 | 1 | 0 | 0 |\n",
       "| 0 | L0002 | 0 | 0 | 1 | 0 | 0 |\n",
       "| 0 | L0003 | 0 | 1 | 0 | 1 | 0 |\n",
       "| 0 | L0004 | 0 | 0 | 0 | 0 | 0 |\n",
       "| 0 | L0005 | 0 | 1 | 0 | 0 | 0 |\n",
       "| 0 | L0006 | 1 | 0 | 0 | 0 | 0 |\n",
       "\n"
      ],
      "text/plain": [
       "  FID IID   ncd hypertension T2DM CHD stroke\n",
       "1 0   L0001 0   1            1    0   0     \n",
       "2 0   L0002 0   0            1    0   0     \n",
       "3 0   L0003 0   1            0    1   0     \n",
       "4 0   L0004 0   0            0    0   0     \n",
       "5 0   L0005 0   1            0    0   0     \n",
       "6 0   L0006 1   0            0    0   0     "
      ]
     },
     "metadata": {},
     "output_type": "display_data"
    },
    {
     "data": {
      "text/html": [
       "<table class=\"dataframe\">\n",
       "<caption>A data.table: 6 × 3</caption>\n",
       "<thead>\n",
       "\t<tr><th scope=col>FID</th><th scope=col>IID</th><th scope=col>ncd</th></tr>\n",
       "\t<tr><th scope=col>&lt;dbl&gt;</th><th scope=col>&lt;chr&gt;</th><th scope=col>&lt;int&gt;</th></tr>\n",
       "</thead>\n",
       "<tbody>\n",
       "\t<tr><td>0</td><td>L0001</td><td>0</td></tr>\n",
       "\t<tr><td>0</td><td>L0002</td><td>0</td></tr>\n",
       "\t<tr><td>0</td><td>L0003</td><td>0</td></tr>\n",
       "\t<tr><td>0</td><td>L0004</td><td>0</td></tr>\n",
       "\t<tr><td>0</td><td>L0005</td><td>0</td></tr>\n",
       "\t<tr><td>0</td><td>L0006</td><td>1</td></tr>\n",
       "</tbody>\n",
       "</table>\n"
      ],
      "text/latex": [
       "A data.table: 6 × 3\n",
       "\\begin{tabular}{lll}\n",
       " FID & IID & ncd\\\\\n",
       " <dbl> & <chr> & <int>\\\\\n",
       "\\hline\n",
       "\t 0 & L0001 & 0\\\\\n",
       "\t 0 & L0002 & 0\\\\\n",
       "\t 0 & L0003 & 0\\\\\n",
       "\t 0 & L0004 & 0\\\\\n",
       "\t 0 & L0005 & 0\\\\\n",
       "\t 0 & L0006 & 1\\\\\n",
       "\\end{tabular}\n"
      ],
      "text/markdown": [
       "\n",
       "A data.table: 6 × 3\n",
       "\n",
       "| FID &lt;dbl&gt; | IID &lt;chr&gt; | ncd &lt;int&gt; |\n",
       "|---|---|---|\n",
       "| 0 | L0001 | 0 |\n",
       "| 0 | L0002 | 0 |\n",
       "| 0 | L0003 | 0 |\n",
       "| 0 | L0004 | 0 |\n",
       "| 0 | L0005 | 0 |\n",
       "| 0 | L0006 | 1 |\n",
       "\n"
      ],
      "text/plain": [
       "  FID IID   ncd\n",
       "1 0   L0001 0  \n",
       "2 0   L0002 0  \n",
       "3 0   L0003 0  \n",
       "4 0   L0004 0  \n",
       "5 0   L0005 0  \n",
       "6 0   L0006 1  "
      ]
     },
     "metadata": {},
     "output_type": "display_data"
    },
    {
     "data": {
      "text/html": [
       "<table class=\"dataframe\">\n",
       "<caption>A data.table: 6 × 6</caption>\n",
       "<thead>\n",
       "\t<tr><th scope=col>FID</th><th scope=col>IID</th><th scope=col>hypertension</th><th scope=col>T2DM</th><th scope=col>CHD</th><th scope=col>stroke</th></tr>\n",
       "\t<tr><th scope=col>&lt;dbl&gt;</th><th scope=col>&lt;chr&gt;</th><th scope=col>&lt;int&gt;</th><th scope=col>&lt;int&gt;</th><th scope=col>&lt;int&gt;</th><th scope=col>&lt;int&gt;</th></tr>\n",
       "</thead>\n",
       "<tbody>\n",
       "\t<tr><td>0</td><td>L0001</td><td>1</td><td>1</td><td>0</td><td>0</td></tr>\n",
       "\t<tr><td>0</td><td>L0002</td><td>0</td><td>1</td><td>0</td><td>0</td></tr>\n",
       "\t<tr><td>0</td><td>L0003</td><td>1</td><td>0</td><td>1</td><td>0</td></tr>\n",
       "\t<tr><td>0</td><td>L0004</td><td>0</td><td>0</td><td>0</td><td>0</td></tr>\n",
       "\t<tr><td>0</td><td>L0005</td><td>1</td><td>0</td><td>0</td><td>0</td></tr>\n",
       "\t<tr><td>0</td><td>L0006</td><td>0</td><td>0</td><td>0</td><td>0</td></tr>\n",
       "</tbody>\n",
       "</table>\n"
      ],
      "text/latex": [
       "A data.table: 6 × 6\n",
       "\\begin{tabular}{llllll}\n",
       " FID & IID & hypertension & T2DM & CHD & stroke\\\\\n",
       " <dbl> & <chr> & <int> & <int> & <int> & <int>\\\\\n",
       "\\hline\n",
       "\t 0 & L0001 & 1 & 1 & 0 & 0\\\\\n",
       "\t 0 & L0002 & 0 & 1 & 0 & 0\\\\\n",
       "\t 0 & L0003 & 1 & 0 & 1 & 0\\\\\n",
       "\t 0 & L0004 & 0 & 0 & 0 & 0\\\\\n",
       "\t 0 & L0005 & 1 & 0 & 0 & 0\\\\\n",
       "\t 0 & L0006 & 0 & 0 & 0 & 0\\\\\n",
       "\\end{tabular}\n"
      ],
      "text/markdown": [
       "\n",
       "A data.table: 6 × 6\n",
       "\n",
       "| FID &lt;dbl&gt; | IID &lt;chr&gt; | hypertension &lt;int&gt; | T2DM &lt;int&gt; | CHD &lt;int&gt; | stroke &lt;int&gt; |\n",
       "|---|---|---|---|---|---|\n",
       "| 0 | L0001 | 1 | 1 | 0 | 0 |\n",
       "| 0 | L0002 | 0 | 1 | 0 | 0 |\n",
       "| 0 | L0003 | 1 | 0 | 1 | 0 |\n",
       "| 0 | L0004 | 0 | 0 | 0 | 0 |\n",
       "| 0 | L0005 | 1 | 0 | 0 | 0 |\n",
       "| 0 | L0006 | 0 | 0 | 0 | 0 |\n",
       "\n"
      ],
      "text/plain": [
       "  FID IID   hypertension T2DM CHD stroke\n",
       "1 0   L0001 1            1    0   0     \n",
       "2 0   L0002 0            1    0   0     \n",
       "3 0   L0003 1            0    1   0     \n",
       "4 0   L0004 0            0    0   0     \n",
       "5 0   L0005 1            0    0   0     \n",
       "6 0   L0006 0            0    0   0     "
      ]
     },
     "metadata": {},
     "output_type": "display_data"
    }
   ],
   "source": [
    "pheno_regenie <- full_pheno %>% select(FID, subjectID, ncd, r1hibpe, r1diabe, r1hearte, r1stroke) %>% rename(IID = \"subjectID\") %>% rename(hypertension = \"r1hibpe\") %>% rename(T2DM = \"r1diabe\") %>% rename(CHD = \"r1hearte\") %>% rename(stroke = \"r1stroke\")\n",
    "head(pheno_regenie)\n",
    "\n",
    "# file with continuous phenotypes\n",
    "\n",
    "pheno_cont <- pheno_regenie %>% select(FID, IID, ncd)\n",
    "head(pheno_cont)\n",
    "\n",
    "# file with binary phenotypes\n",
    "\n",
    "pheno_bin <- pheno_regenie %>% select(FID, IID, hypertension, T2DM, CHD, stroke)\n",
    "head(pheno_bin)"
   ]
  },
  {
   "cell_type": "code",
   "execution_count": 13,
   "metadata": {},
   "outputs": [],
   "source": [
    "write.table(pheno_regenie, file = \"phenotype_regenie.tsv\", col.names = T, sep = \"\\t\", na = \"NA\", row.names = F, quote = F)\n",
    "write.table(pheno_cont, file = \"continuous_phenotype_regenie.tsv\", col.names = T, sep = \"\\t\", na = \"NA\", row.names = F, quote = F)\n",
    "write.table(pheno_bin, file = \"binary_phenotypes_regenie.tsv\", col.names = T, sep = \"\\t\", na = \"NA\", row.names = F, quote = F)"
   ]
  }
 ],
 "metadata": {
  "kernelspec": {
   "display_name": "R",
   "language": "R",
   "name": "ir"
  },
  "language_info": {
   "codemirror_mode": "r",
   "file_extension": ".r",
   "mimetype": "text/x-r-source",
   "name": "R",
   "pygments_lexer": "r",
   "version": "4.1.2"
  }
 },
 "nbformat": 4,
 "nbformat_minor": 4
}
