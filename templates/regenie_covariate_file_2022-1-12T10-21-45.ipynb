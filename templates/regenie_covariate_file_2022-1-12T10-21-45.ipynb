{
 "cells": [
  {
   "cell_type": "markdown",
   "metadata": {},
   "source": [
    "# Covariate file for regenie input\n",
    "\n",
    "Docs [here](https://rgcgithub.github.io/regenie/options/#covariate-file-format)\n",
    "\n",
    "- tab or space deliminated\n",
    "- Familial and individual ID (FID & IID)\n",
    "- age, sex, education, PCs\n",
    "- genotype batch (genotype batch data not provided)"
   ]
  },
  {
   "cell_type": "code",
   "execution_count": null,
   "metadata": {},
   "outputs": [],
   "source": [
    "## download files\n",
    "dx download file-G7GF8p00B3gg9fk61xX7YV0z\n",
    "dx download file-G7GF9Q80B3gzQ93jPpFY34xG"
   ]
  },
  {
   "cell_type": "code",
   "execution_count": 1,
   "metadata": {},
   "outputs": [
    {
     "name": "stderr",
     "output_type": "stream",
     "text": [
      "Installing package into ‘/usr/local/lib/R/site-library’\n",
      "(as ‘lib’ is unspecified)\n",
      "\n",
      "also installing the dependencies ‘bit’, ‘bit64’, ‘progress’, ‘hms’, ‘vroom’, ‘tzdb’\n",
      "\n",
      "\n",
      "Loading required package: dplyr\n",
      "\n",
      "\n",
      "Attaching package: ‘dplyr’\n",
      "\n",
      "\n",
      "The following objects are masked from ‘package:stats’:\n",
      "\n",
      "    filter, lag\n",
      "\n",
      "\n",
      "The following objects are masked from ‘package:base’:\n",
      "\n",
      "    intersect, setdiff, setequal, union\n",
      "\n",
      "\n",
      "Loading required package: readr\n",
      "\n"
     ]
    },
    {
     "data": {
      "text/html": [
       "<ol>\n",
       "\t<li>TRUE</li>\n",
       "\t<li>TRUE</li>\n",
       "</ol>\n"
      ],
      "text/latex": [
       "\\begin{enumerate}\n",
       "\\item TRUE\n",
       "\\item TRUE\n",
       "\\end{enumerate}\n"
      ],
      "text/markdown": [
       "1. TRUE\n",
       "2. TRUE\n",
       "\n",
       "\n"
      ],
      "text/plain": [
       "[[1]]\n",
       "[1] TRUE\n",
       "\n",
       "[[2]]\n",
       "[1] TRUE\n"
      ]
     },
     "metadata": {},
     "output_type": "display_data"
    }
   ],
   "source": [
    "## load packages\n",
    "packages <- c(\"dplyr\", \"readr\")\n",
    "## check if install\n",
    "new_pkg <- packages[!(packages %in% installed.packages())]\n",
    "## install missing pkgs\n",
    "install.packages(new_pkg)\n",
    "## load\n",
    "lapply(packages, require, character.only = TRUE)"
   ]
  },
  {
   "cell_type": "code",
   "execution_count": 2,
   "metadata": {},
   "outputs": [
    {
     "data": {
      "text/html": [
       "<table class=\"dataframe\">\n",
       "<caption>A data.frame: 10 × 10</caption>\n",
       "<thead>\n",
       "\t<tr><th></th><th scope=col>subjectID</th><th scope=col>r1agey</th><th scope=col>ragender</th><th scope=col>raeducl</th><th scope=col>ncd</th><th scope=col>fm_ad_dad</th><th scope=col>fm_ad_mom</th><th scope=col>rs429358</th><th scope=col>rs7412</th><th scope=col>unrelated</th></tr>\n",
       "\t<tr><th></th><th scope=col>&lt;chr&gt;</th><th scope=col>&lt;int&gt;</th><th scope=col>&lt;chr&gt;</th><th scope=col>&lt;chr&gt;</th><th scope=col>&lt;int&gt;</th><th scope=col>&lt;int&gt;</th><th scope=col>&lt;int&gt;</th><th scope=col>&lt;dbl&gt;</th><th scope=col>&lt;dbl&gt;</th><th scope=col>&lt;int&gt;</th></tr>\n",
       "</thead>\n",
       "<tbody>\n",
       "\t<tr><th scope=row>1</th><td>L0001</td><td>70</td><td>1.male  </td><td>1.less than lower secondary            </td><td>0</td><td> 0</td><td> 0</td><td>0.000</td><td>0.000</td><td>1</td></tr>\n",
       "\t<tr><th scope=row>2</th><td>L0002</td><td>84</td><td><span style=white-space:pre-wrap>1.male  </span></td><td>2.upper secondary &amp; vocational training</td><td>0</td><td> 0</td><td> 0</td><td>0.000</td><td>0.000</td><td>1</td></tr>\n",
       "\t<tr><th scope=row>3</th><td>L0003</td><td>62</td><td><span style=white-space:pre-wrap>1.male  </span></td><td>2.upper secondary &amp; vocational training</td><td>0</td><td> 0</td><td> 0</td><td>0.000</td><td>0.000</td><td>1</td></tr>\n",
       "\t<tr><th scope=row>4</th><td>L0004</td><td>62</td><td>2.female</td><td>2.upper secondary &amp; vocational training</td><td>0</td><td> 0</td><td> 0</td><td>0.000</td><td>0.000</td><td>1</td></tr>\n",
       "\t<tr><th scope=row>5</th><td>L0005</td><td>68</td><td>2.female</td><td>1.less than lower secondary            </td><td>0</td><td> 0</td><td> 0</td><td>0.000</td><td>0.000</td><td>1</td></tr>\n",
       "\t<tr><th scope=row>6</th><td>L0006</td><td>66</td><td>2.female</td><td>1.less than lower secondary            </td><td>1</td><td> 0</td><td> 0</td><td>0.000</td><td>0.000</td><td>1</td></tr>\n",
       "\t<tr><th scope=row>7</th><td>L0007</td><td>85</td><td><span style=white-space:pre-wrap>1.male  </span></td><td>2.upper secondary &amp; vocational training</td><td>0</td><td> 0</td><td> 0</td><td>0.000</td><td>0.000</td><td>1</td></tr>\n",
       "\t<tr><th scope=row>8</th><td>L0008</td><td>70</td><td>2.female</td><td>2.upper secondary &amp; vocational training</td><td>0</td><td> 0</td><td> 0</td><td>0.019</td><td>0.002</td><td>1</td></tr>\n",
       "\t<tr><th scope=row>9</th><td>L0009</td><td>78</td><td><span style=white-space:pre-wrap>1.male  </span></td><td>2.upper secondary &amp; vocational training</td><td>0</td><td>NA</td><td>NA</td><td>1.000</td><td>0.000</td><td>1</td></tr>\n",
       "\t<tr><th scope=row>10</th><td>L0010</td><td>62</td><td>1.male  </td><td>1.less than lower secondary            </td><td>0</td><td> 0</td><td> 0</td><td>1.000</td><td>0.000</td><td>1</td></tr>\n",
       "</tbody>\n",
       "</table>\n"
      ],
      "text/latex": [
       "A data.frame: 10 × 10\n",
       "\\begin{tabular}{r|llllllllll}\n",
       "  & subjectID & r1agey & ragender & raeducl & ncd & fm\\_ad\\_dad & fm\\_ad\\_mom & rs429358 & rs7412 & unrelated\\\\\n",
       "  & <chr> & <int> & <chr> & <chr> & <int> & <int> & <int> & <dbl> & <dbl> & <int>\\\\\n",
       "\\hline\n",
       "\t1 & L0001 & 70 & 1.male   & 1.less than lower secondary             & 0 &  0 &  0 & 0.000 & 0.000 & 1\\\\\n",
       "\t2 & L0002 & 84 & 1.male   & 2.upper secondary \\& vocational training & 0 &  0 &  0 & 0.000 & 0.000 & 1\\\\\n",
       "\t3 & L0003 & 62 & 1.male   & 2.upper secondary \\& vocational training & 0 &  0 &  0 & 0.000 & 0.000 & 1\\\\\n",
       "\t4 & L0004 & 62 & 2.female & 2.upper secondary \\& vocational training & 0 &  0 &  0 & 0.000 & 0.000 & 1\\\\\n",
       "\t5 & L0005 & 68 & 2.female & 1.less than lower secondary             & 0 &  0 &  0 & 0.000 & 0.000 & 1\\\\\n",
       "\t6 & L0006 & 66 & 2.female & 1.less than lower secondary             & 1 &  0 &  0 & 0.000 & 0.000 & 1\\\\\n",
       "\t7 & L0007 & 85 & 1.male   & 2.upper secondary \\& vocational training & 0 &  0 &  0 & 0.000 & 0.000 & 1\\\\\n",
       "\t8 & L0008 & 70 & 2.female & 2.upper secondary \\& vocational training & 0 &  0 &  0 & 0.019 & 0.002 & 1\\\\\n",
       "\t9 & L0009 & 78 & 1.male   & 2.upper secondary \\& vocational training & 0 & NA & NA & 1.000 & 0.000 & 1\\\\\n",
       "\t10 & L0010 & 62 & 1.male   & 1.less than lower secondary             & 0 &  0 &  0 & 1.000 & 0.000 & 1\\\\\n",
       "\\end{tabular}\n"
      ],
      "text/markdown": [
       "\n",
       "A data.frame: 10 × 10\n",
       "\n",
       "| <!--/--> | subjectID &lt;chr&gt; | r1agey &lt;int&gt; | ragender &lt;chr&gt; | raeducl &lt;chr&gt; | ncd &lt;int&gt; | fm_ad_dad &lt;int&gt; | fm_ad_mom &lt;int&gt; | rs429358 &lt;dbl&gt; | rs7412 &lt;dbl&gt; | unrelated &lt;int&gt; |\n",
       "|---|---|---|---|---|---|---|---|---|---|---|\n",
       "| 1 | L0001 | 70 | 1.male   | 1.less than lower secondary             | 0 |  0 |  0 | 0.000 | 0.000 | 1 |\n",
       "| 2 | L0002 | 84 | 1.male   | 2.upper secondary &amp; vocational training | 0 |  0 |  0 | 0.000 | 0.000 | 1 |\n",
       "| 3 | L0003 | 62 | 1.male   | 2.upper secondary &amp; vocational training | 0 |  0 |  0 | 0.000 | 0.000 | 1 |\n",
       "| 4 | L0004 | 62 | 2.female | 2.upper secondary &amp; vocational training | 0 |  0 |  0 | 0.000 | 0.000 | 1 |\n",
       "| 5 | L0005 | 68 | 2.female | 1.less than lower secondary             | 0 |  0 |  0 | 0.000 | 0.000 | 1 |\n",
       "| 6 | L0006 | 66 | 2.female | 1.less than lower secondary             | 1 |  0 |  0 | 0.000 | 0.000 | 1 |\n",
       "| 7 | L0007 | 85 | 1.male   | 2.upper secondary &amp; vocational training | 0 |  0 |  0 | 0.000 | 0.000 | 1 |\n",
       "| 8 | L0008 | 70 | 2.female | 2.upper secondary &amp; vocational training | 0 |  0 |  0 | 0.019 | 0.002 | 1 |\n",
       "| 9 | L0009 | 78 | 1.male   | 2.upper secondary &amp; vocational training | 0 | NA | NA | 1.000 | 0.000 | 1 |\n",
       "| 10 | L0010 | 62 | 1.male   | 1.less than lower secondary             | 0 |  0 |  0 | 1.000 | 0.000 | 1 |\n",
       "\n"
      ],
      "text/plain": [
       "   subjectID r1agey ragender raeducl                                 ncd\n",
       "1  L0001     70     1.male   1.less than lower secondary             0  \n",
       "2  L0002     84     1.male   2.upper secondary & vocational training 0  \n",
       "3  L0003     62     1.male   2.upper secondary & vocational training 0  \n",
       "4  L0004     62     2.female 2.upper secondary & vocational training 0  \n",
       "5  L0005     68     2.female 1.less than lower secondary             0  \n",
       "6  L0006     66     2.female 1.less than lower secondary             1  \n",
       "7  L0007     85     1.male   2.upper secondary & vocational training 0  \n",
       "8  L0008     70     2.female 2.upper secondary & vocational training 0  \n",
       "9  L0009     78     1.male   2.upper secondary & vocational training 0  \n",
       "10 L0010     62     1.male   1.less than lower secondary             0  \n",
       "   fm_ad_dad fm_ad_mom rs429358 rs7412 unrelated\n",
       "1   0         0        0.000    0.000  1        \n",
       "2   0         0        0.000    0.000  1        \n",
       "3   0         0        0.000    0.000  1        \n",
       "4   0         0        0.000    0.000  1        \n",
       "5   0         0        0.000    0.000  1        \n",
       "6   0         0        0.000    0.000  1        \n",
       "7   0         0        0.000    0.000  1        \n",
       "8   0         0        0.019    0.002  1        \n",
       "9  NA        NA        1.000    0.000  1        \n",
       "10  0         0        1.000    0.000  1        "
      ]
     },
     "metadata": {},
     "output_type": "display_data"
    },
    {
     "data": {
      "text/html": [
       "<table class=\"dataframe\">\n",
       "<caption>A data.frame: 10 × 11</caption>\n",
       "<thead>\n",
       "\t<tr><th></th><th scope=col>subjectID</th><th scope=col>EV1</th><th scope=col>EV2</th><th scope=col>EV3</th><th scope=col>EV4</th><th scope=col>EV5</th><th scope=col>EV6</th><th scope=col>EV7</th><th scope=col>EV8</th><th scope=col>EV9</th><th scope=col>EV10</th></tr>\n",
       "\t<tr><th></th><th scope=col>&lt;chr&gt;</th><th scope=col>&lt;dbl&gt;</th><th scope=col>&lt;dbl&gt;</th><th scope=col>&lt;dbl&gt;</th><th scope=col>&lt;dbl&gt;</th><th scope=col>&lt;dbl&gt;</th><th scope=col>&lt;dbl&gt;</th><th scope=col>&lt;dbl&gt;</th><th scope=col>&lt;dbl&gt;</th><th scope=col>&lt;dbl&gt;</th><th scope=col>&lt;dbl&gt;</th></tr>\n",
       "</thead>\n",
       "<tbody>\n",
       "\t<tr><th scope=row>1</th><td>L0001</td><td> 0.023947792</td><td>-0.010886505</td><td> 0.015642008</td><td>-0.013605539</td><td>-0.022249211</td><td>-0.006838284</td><td> 0.011093844</td><td>-0.004274481</td><td>-0.002988073</td><td>-0.006482491</td></tr>\n",
       "\t<tr><th scope=row>2</th><td>L0002</td><td>-0.015955208</td><td>-0.009363282</td><td>-0.012800234</td><td> 0.011564254</td><td>-0.007814221</td><td>-0.027829510</td><td> 0.010623701</td><td> 0.001211459</td><td>-0.004220076</td><td>-0.023738861</td></tr>\n",
       "\t<tr><th scope=row>3</th><td>L0003</td><td>-0.010632576</td><td> 0.058146700</td><td> 0.010389606</td><td> 0.006185627</td><td> 0.015692084</td><td>-0.022769097</td><td> 0.007212796</td><td>-0.009888203</td><td> 0.002175627</td><td>-0.014689382</td></tr>\n",
       "\t<tr><th scope=row>4</th><td>L0004</td><td>-0.060550042</td><td>-0.021497199</td><td> 0.001286160</td><td>-0.021647636</td><td>-0.039879269</td><td>-0.012261050</td><td> 0.008266272</td><td>-0.030645142</td><td>-0.009024135</td><td>-0.036456080</td></tr>\n",
       "\t<tr><th scope=row>5</th><td>L0005</td><td> 0.017019493</td><td>-0.024483824</td><td> 0.107372941</td><td>-0.005211315</td><td> 0.077820966</td><td> 0.003271938</td><td>-0.000581543</td><td>-0.005560054</td><td> 0.007421078</td><td>-0.003656812</td></tr>\n",
       "\t<tr><th scope=row>6</th><td>L0006</td><td> 0.031705225</td><td>-0.002269645</td><td> 0.003643671</td><td>-0.010917636</td><td>-0.020706064</td><td>-0.018241547</td><td>-0.002563062</td><td>-0.005090636</td><td>-0.012728727</td><td> 0.012058891</td></tr>\n",
       "\t<tr><th scope=row>7</th><td>L0007</td><td> 0.003256430</td><td> 0.005246588</td><td>-0.036807142</td><td>-0.004377058</td><td> 0.028011064</td><td>-0.002643993</td><td>-0.021063728</td><td> 0.010055732</td><td> 0.001999787</td><td> 0.010173593</td></tr>\n",
       "\t<tr><th scope=row>8</th><td>L0008</td><td>-0.014428840</td><td> 0.001438634</td><td>-0.013198300</td><td> 0.018506810</td><td> 0.011941803</td><td> 0.009265746</td><td> 0.002805872</td><td> 0.012235550</td><td>-0.043170339</td><td>-0.001257717</td></tr>\n",
       "\t<tr><th scope=row>9</th><td>L0009</td><td> 0.000163294</td><td>-0.014589893</td><td> 0.008450593</td><td> 0.009954993</td><td>-0.054269374</td><td> 0.003570816</td><td> 0.004851744</td><td>-0.004440891</td><td> 0.005157107</td><td> 0.020338232</td></tr>\n",
       "\t<tr><th scope=row>10</th><td>L0010</td><td>-0.016634898</td><td> 0.025171798</td><td>-0.016235891</td><td> 0.001143281</td><td>-0.000736940</td><td>-0.002434734</td><td>-0.004853057</td><td> 0.007518814</td><td> 0.008392966</td><td>-0.005746723</td></tr>\n",
       "</tbody>\n",
       "</table>\n"
      ],
      "text/latex": [
       "A data.frame: 10 × 11\n",
       "\\begin{tabular}{r|lllllllllll}\n",
       "  & subjectID & EV1 & EV2 & EV3 & EV4 & EV5 & EV6 & EV7 & EV8 & EV9 & EV10\\\\\n",
       "  & <chr> & <dbl> & <dbl> & <dbl> & <dbl> & <dbl> & <dbl> & <dbl> & <dbl> & <dbl> & <dbl>\\\\\n",
       "\\hline\n",
       "\t1 & L0001 &  0.023947792 & -0.010886505 &  0.015642008 & -0.013605539 & -0.022249211 & -0.006838284 &  0.011093844 & -0.004274481 & -0.002988073 & -0.006482491\\\\\n",
       "\t2 & L0002 & -0.015955208 & -0.009363282 & -0.012800234 &  0.011564254 & -0.007814221 & -0.027829510 &  0.010623701 &  0.001211459 & -0.004220076 & -0.023738861\\\\\n",
       "\t3 & L0003 & -0.010632576 &  0.058146700 &  0.010389606 &  0.006185627 &  0.015692084 & -0.022769097 &  0.007212796 & -0.009888203 &  0.002175627 & -0.014689382\\\\\n",
       "\t4 & L0004 & -0.060550042 & -0.021497199 &  0.001286160 & -0.021647636 & -0.039879269 & -0.012261050 &  0.008266272 & -0.030645142 & -0.009024135 & -0.036456080\\\\\n",
       "\t5 & L0005 &  0.017019493 & -0.024483824 &  0.107372941 & -0.005211315 &  0.077820966 &  0.003271938 & -0.000581543 & -0.005560054 &  0.007421078 & -0.003656812\\\\\n",
       "\t6 & L0006 &  0.031705225 & -0.002269645 &  0.003643671 & -0.010917636 & -0.020706064 & -0.018241547 & -0.002563062 & -0.005090636 & -0.012728727 &  0.012058891\\\\\n",
       "\t7 & L0007 &  0.003256430 &  0.005246588 & -0.036807142 & -0.004377058 &  0.028011064 & -0.002643993 & -0.021063728 &  0.010055732 &  0.001999787 &  0.010173593\\\\\n",
       "\t8 & L0008 & -0.014428840 &  0.001438634 & -0.013198300 &  0.018506810 &  0.011941803 &  0.009265746 &  0.002805872 &  0.012235550 & -0.043170339 & -0.001257717\\\\\n",
       "\t9 & L0009 &  0.000163294 & -0.014589893 &  0.008450593 &  0.009954993 & -0.054269374 &  0.003570816 &  0.004851744 & -0.004440891 &  0.005157107 &  0.020338232\\\\\n",
       "\t10 & L0010 & -0.016634898 &  0.025171798 & -0.016235891 &  0.001143281 & -0.000736940 & -0.002434734 & -0.004853057 &  0.007518814 &  0.008392966 & -0.005746723\\\\\n",
       "\\end{tabular}\n"
      ],
      "text/markdown": [
       "\n",
       "A data.frame: 10 × 11\n",
       "\n",
       "| <!--/--> | subjectID &lt;chr&gt; | EV1 &lt;dbl&gt; | EV2 &lt;dbl&gt; | EV3 &lt;dbl&gt; | EV4 &lt;dbl&gt; | EV5 &lt;dbl&gt; | EV6 &lt;dbl&gt; | EV7 &lt;dbl&gt; | EV8 &lt;dbl&gt; | EV9 &lt;dbl&gt; | EV10 &lt;dbl&gt; |\n",
       "|---|---|---|---|---|---|---|---|---|---|---|---|\n",
       "| 1 | L0001 |  0.023947792 | -0.010886505 |  0.015642008 | -0.013605539 | -0.022249211 | -0.006838284 |  0.011093844 | -0.004274481 | -0.002988073 | -0.006482491 |\n",
       "| 2 | L0002 | -0.015955208 | -0.009363282 | -0.012800234 |  0.011564254 | -0.007814221 | -0.027829510 |  0.010623701 |  0.001211459 | -0.004220076 | -0.023738861 |\n",
       "| 3 | L0003 | -0.010632576 |  0.058146700 |  0.010389606 |  0.006185627 |  0.015692084 | -0.022769097 |  0.007212796 | -0.009888203 |  0.002175627 | -0.014689382 |\n",
       "| 4 | L0004 | -0.060550042 | -0.021497199 |  0.001286160 | -0.021647636 | -0.039879269 | -0.012261050 |  0.008266272 | -0.030645142 | -0.009024135 | -0.036456080 |\n",
       "| 5 | L0005 |  0.017019493 | -0.024483824 |  0.107372941 | -0.005211315 |  0.077820966 |  0.003271938 | -0.000581543 | -0.005560054 |  0.007421078 | -0.003656812 |\n",
       "| 6 | L0006 |  0.031705225 | -0.002269645 |  0.003643671 | -0.010917636 | -0.020706064 | -0.018241547 | -0.002563062 | -0.005090636 | -0.012728727 |  0.012058891 |\n",
       "| 7 | L0007 |  0.003256430 |  0.005246588 | -0.036807142 | -0.004377058 |  0.028011064 | -0.002643993 | -0.021063728 |  0.010055732 |  0.001999787 |  0.010173593 |\n",
       "| 8 | L0008 | -0.014428840 |  0.001438634 | -0.013198300 |  0.018506810 |  0.011941803 |  0.009265746 |  0.002805872 |  0.012235550 | -0.043170339 | -0.001257717 |\n",
       "| 9 | L0009 |  0.000163294 | -0.014589893 |  0.008450593 |  0.009954993 | -0.054269374 |  0.003570816 |  0.004851744 | -0.004440891 |  0.005157107 |  0.020338232 |\n",
       "| 10 | L0010 | -0.016634898 |  0.025171798 | -0.016235891 |  0.001143281 | -0.000736940 | -0.002434734 | -0.004853057 |  0.007518814 |  0.008392966 | -0.005746723 |\n",
       "\n"
      ],
      "text/plain": [
       "   subjectID EV1          EV2          EV3          EV4          EV5         \n",
       "1  L0001      0.023947792 -0.010886505  0.015642008 -0.013605539 -0.022249211\n",
       "2  L0002     -0.015955208 -0.009363282 -0.012800234  0.011564254 -0.007814221\n",
       "3  L0003     -0.010632576  0.058146700  0.010389606  0.006185627  0.015692084\n",
       "4  L0004     -0.060550042 -0.021497199  0.001286160 -0.021647636 -0.039879269\n",
       "5  L0005      0.017019493 -0.024483824  0.107372941 -0.005211315  0.077820966\n",
       "6  L0006      0.031705225 -0.002269645  0.003643671 -0.010917636 -0.020706064\n",
       "7  L0007      0.003256430  0.005246588 -0.036807142 -0.004377058  0.028011064\n",
       "8  L0008     -0.014428840  0.001438634 -0.013198300  0.018506810  0.011941803\n",
       "9  L0009      0.000163294 -0.014589893  0.008450593  0.009954993 -0.054269374\n",
       "10 L0010     -0.016634898  0.025171798 -0.016235891  0.001143281 -0.000736940\n",
       "   EV6          EV7          EV8          EV9          EV10        \n",
       "1  -0.006838284  0.011093844 -0.004274481 -0.002988073 -0.006482491\n",
       "2  -0.027829510  0.010623701  0.001211459 -0.004220076 -0.023738861\n",
       "3  -0.022769097  0.007212796 -0.009888203  0.002175627 -0.014689382\n",
       "4  -0.012261050  0.008266272 -0.030645142 -0.009024135 -0.036456080\n",
       "5   0.003271938 -0.000581543 -0.005560054  0.007421078 -0.003656812\n",
       "6  -0.018241547 -0.002563062 -0.005090636 -0.012728727  0.012058891\n",
       "7  -0.002643993 -0.021063728  0.010055732  0.001999787  0.010173593\n",
       "8   0.009265746  0.002805872  0.012235550 -0.043170339 -0.001257717\n",
       "9   0.003570816  0.004851744 -0.004440891  0.005157107  0.020338232\n",
       "10 -0.002434734 -0.004853057  0.007518814  0.008392966 -0.005746723"
      ]
     },
     "metadata": {},
     "output_type": "display_data"
    }
   ],
   "source": [
    "## read in source files\n",
    "ptype <- read.csv(\"LASI_DAD_Neurohack_Phenotype_fake.csv\")\n",
    "pcs <- read.csv(\"LASI_DAD_Neurohack_genetic_PCs_fake.csv\")\n",
    "\n",
    "## ensure order of rows is the same\n",
    "ptype <- dplyr::arrange(ptype, subjectID)\n",
    "pcs <- dplyr::arrange(pcs, subjectID)\n",
    "head(ptype, 10)\n",
    "head(pcs, 10)"
   ]
  },
  {
   "cell_type": "code",
   "execution_count": 3,
   "metadata": {},
   "outputs": [],
   "source": [
    "## convert cols to numeric\n",
    "ptype$ragender <- as.numeric(substr(ptype$ragender, 1, 1))\n",
    "ptype$raeducl <- as.numeric(substr(ptype$raeducl, 1, 1))"
   ]
  },
  {
   "cell_type": "code",
   "execution_count": 5,
   "metadata": {},
   "outputs": [
    {
     "data": {
      "text/html": [
       "<table class=\"dataframe\">\n",
       "<caption>A data.frame: 6 × 15</caption>\n",
       "<thead>\n",
       "\t<tr><th></th><th scope=col>FID</th><th scope=col>IID</th><th scope=col>age</th><th scope=col>sex</th><th scope=col>education</th><th scope=col>genetic_pc1</th><th scope=col>genetic_pc2</th><th scope=col>genetic_pc3</th><th scope=col>genetic_pc4</th><th scope=col>genetic_pc5</th><th scope=col>genetic_pc6</th><th scope=col>genetic_pc7</th><th scope=col>genetic_pc8</th><th scope=col>genetic_pc9</th><th scope=col>genetic_pc10</th></tr>\n",
       "\t<tr><th></th><th scope=col>&lt;chr&gt;</th><th scope=col>&lt;chr&gt;</th><th scope=col>&lt;int&gt;</th><th scope=col>&lt;dbl&gt;</th><th scope=col>&lt;dbl&gt;</th><th scope=col>&lt;dbl&gt;</th><th scope=col>&lt;dbl&gt;</th><th scope=col>&lt;dbl&gt;</th><th scope=col>&lt;dbl&gt;</th><th scope=col>&lt;dbl&gt;</th><th scope=col>&lt;dbl&gt;</th><th scope=col>&lt;dbl&gt;</th><th scope=col>&lt;dbl&gt;</th><th scope=col>&lt;dbl&gt;</th><th scope=col>&lt;dbl&gt;</th></tr>\n",
       "</thead>\n",
       "<tbody>\n",
       "\t<tr><th scope=row>1</th><td>L0001</td><td>L0001</td><td>70</td><td>1</td><td>1</td><td> 0.02394779</td><td>-0.010886505</td><td> 0.015642008</td><td>-0.013605539</td><td>-0.022249211</td><td>-0.006838284</td><td> 0.011093844</td><td>-0.004274481</td><td>-0.002988073</td><td>-0.006482491</td></tr>\n",
       "\t<tr><th scope=row>2</th><td>L0002</td><td>L0002</td><td>84</td><td>1</td><td>2</td><td>-0.01595521</td><td>-0.009363282</td><td>-0.012800234</td><td> 0.011564254</td><td>-0.007814221</td><td>-0.027829510</td><td> 0.010623701</td><td> 0.001211459</td><td>-0.004220076</td><td>-0.023738861</td></tr>\n",
       "\t<tr><th scope=row>3</th><td>L0003</td><td>L0003</td><td>62</td><td>1</td><td>2</td><td>-0.01063258</td><td> 0.058146700</td><td> 0.010389606</td><td> 0.006185627</td><td> 0.015692084</td><td>-0.022769097</td><td> 0.007212796</td><td>-0.009888203</td><td> 0.002175627</td><td>-0.014689382</td></tr>\n",
       "\t<tr><th scope=row>4</th><td>L0004</td><td>L0004</td><td>62</td><td>2</td><td>2</td><td>-0.06055004</td><td>-0.021497199</td><td> 0.001286160</td><td>-0.021647636</td><td>-0.039879269</td><td>-0.012261050</td><td> 0.008266272</td><td>-0.030645142</td><td>-0.009024135</td><td>-0.036456080</td></tr>\n",
       "\t<tr><th scope=row>5</th><td>L0005</td><td>L0005</td><td>68</td><td>2</td><td>1</td><td> 0.01701949</td><td>-0.024483824</td><td> 0.107372941</td><td>-0.005211315</td><td> 0.077820966</td><td> 0.003271938</td><td>-0.000581543</td><td>-0.005560054</td><td> 0.007421078</td><td>-0.003656812</td></tr>\n",
       "\t<tr><th scope=row>6</th><td>L0006</td><td>L0006</td><td>66</td><td>2</td><td>1</td><td> 0.03170522</td><td>-0.002269645</td><td> 0.003643671</td><td>-0.010917636</td><td>-0.020706064</td><td>-0.018241547</td><td>-0.002563062</td><td>-0.005090636</td><td>-0.012728727</td><td> 0.012058891</td></tr>\n",
       "</tbody>\n",
       "</table>\n"
      ],
      "text/latex": [
       "A data.frame: 6 × 15\n",
       "\\begin{tabular}{r|lllllllllllllll}\n",
       "  & FID & IID & age & sex & education & genetic\\_pc1 & genetic\\_pc2 & genetic\\_pc3 & genetic\\_pc4 & genetic\\_pc5 & genetic\\_pc6 & genetic\\_pc7 & genetic\\_pc8 & genetic\\_pc9 & genetic\\_pc10\\\\\n",
       "  & <chr> & <chr> & <int> & <dbl> & <dbl> & <dbl> & <dbl> & <dbl> & <dbl> & <dbl> & <dbl> & <dbl> & <dbl> & <dbl> & <dbl>\\\\\n",
       "\\hline\n",
       "\t1 & L0001 & L0001 & 70 & 1 & 1 &  0.02394779 & -0.010886505 &  0.015642008 & -0.013605539 & -0.022249211 & -0.006838284 &  0.011093844 & -0.004274481 & -0.002988073 & -0.006482491\\\\\n",
       "\t2 & L0002 & L0002 & 84 & 1 & 2 & -0.01595521 & -0.009363282 & -0.012800234 &  0.011564254 & -0.007814221 & -0.027829510 &  0.010623701 &  0.001211459 & -0.004220076 & -0.023738861\\\\\n",
       "\t3 & L0003 & L0003 & 62 & 1 & 2 & -0.01063258 &  0.058146700 &  0.010389606 &  0.006185627 &  0.015692084 & -0.022769097 &  0.007212796 & -0.009888203 &  0.002175627 & -0.014689382\\\\\n",
       "\t4 & L0004 & L0004 & 62 & 2 & 2 & -0.06055004 & -0.021497199 &  0.001286160 & -0.021647636 & -0.039879269 & -0.012261050 &  0.008266272 & -0.030645142 & -0.009024135 & -0.036456080\\\\\n",
       "\t5 & L0005 & L0005 & 68 & 2 & 1 &  0.01701949 & -0.024483824 &  0.107372941 & -0.005211315 &  0.077820966 &  0.003271938 & -0.000581543 & -0.005560054 &  0.007421078 & -0.003656812\\\\\n",
       "\t6 & L0006 & L0006 & 66 & 2 & 1 &  0.03170522 & -0.002269645 &  0.003643671 & -0.010917636 & -0.020706064 & -0.018241547 & -0.002563062 & -0.005090636 & -0.012728727 &  0.012058891\\\\\n",
       "\\end{tabular}\n"
      ],
      "text/markdown": [
       "\n",
       "A data.frame: 6 × 15\n",
       "\n",
       "| <!--/--> | FID &lt;chr&gt; | IID &lt;chr&gt; | age &lt;int&gt; | sex &lt;dbl&gt; | education &lt;dbl&gt; | genetic_pc1 &lt;dbl&gt; | genetic_pc2 &lt;dbl&gt; | genetic_pc3 &lt;dbl&gt; | genetic_pc4 &lt;dbl&gt; | genetic_pc5 &lt;dbl&gt; | genetic_pc6 &lt;dbl&gt; | genetic_pc7 &lt;dbl&gt; | genetic_pc8 &lt;dbl&gt; | genetic_pc9 &lt;dbl&gt; | genetic_pc10 &lt;dbl&gt; |\n",
       "|---|---|---|---|---|---|---|---|---|---|---|---|---|---|---|---|\n",
       "| 1 | L0001 | L0001 | 70 | 1 | 1 |  0.02394779 | -0.010886505 |  0.015642008 | -0.013605539 | -0.022249211 | -0.006838284 |  0.011093844 | -0.004274481 | -0.002988073 | -0.006482491 |\n",
       "| 2 | L0002 | L0002 | 84 | 1 | 2 | -0.01595521 | -0.009363282 | -0.012800234 |  0.011564254 | -0.007814221 | -0.027829510 |  0.010623701 |  0.001211459 | -0.004220076 | -0.023738861 |\n",
       "| 3 | L0003 | L0003 | 62 | 1 | 2 | -0.01063258 |  0.058146700 |  0.010389606 |  0.006185627 |  0.015692084 | -0.022769097 |  0.007212796 | -0.009888203 |  0.002175627 | -0.014689382 |\n",
       "| 4 | L0004 | L0004 | 62 | 2 | 2 | -0.06055004 | -0.021497199 |  0.001286160 | -0.021647636 | -0.039879269 | -0.012261050 |  0.008266272 | -0.030645142 | -0.009024135 | -0.036456080 |\n",
       "| 5 | L0005 | L0005 | 68 | 2 | 1 |  0.01701949 | -0.024483824 |  0.107372941 | -0.005211315 |  0.077820966 |  0.003271938 | -0.000581543 | -0.005560054 |  0.007421078 | -0.003656812 |\n",
       "| 6 | L0006 | L0006 | 66 | 2 | 1 |  0.03170522 | -0.002269645 |  0.003643671 | -0.010917636 | -0.020706064 | -0.018241547 | -0.002563062 | -0.005090636 | -0.012728727 |  0.012058891 |\n",
       "\n"
      ],
      "text/plain": [
       "  FID   IID   age sex education genetic_pc1 genetic_pc2  genetic_pc3 \n",
       "1 L0001 L0001 70  1   1          0.02394779 -0.010886505  0.015642008\n",
       "2 L0002 L0002 84  1   2         -0.01595521 -0.009363282 -0.012800234\n",
       "3 L0003 L0003 62  1   2         -0.01063258  0.058146700  0.010389606\n",
       "4 L0004 L0004 62  2   2         -0.06055004 -0.021497199  0.001286160\n",
       "5 L0005 L0005 68  2   1          0.01701949 -0.024483824  0.107372941\n",
       "6 L0006 L0006 66  2   1          0.03170522 -0.002269645  0.003643671\n",
       "  genetic_pc4  genetic_pc5  genetic_pc6  genetic_pc7  genetic_pc8  genetic_pc9 \n",
       "1 -0.013605539 -0.022249211 -0.006838284  0.011093844 -0.004274481 -0.002988073\n",
       "2  0.011564254 -0.007814221 -0.027829510  0.010623701  0.001211459 -0.004220076\n",
       "3  0.006185627  0.015692084 -0.022769097  0.007212796 -0.009888203  0.002175627\n",
       "4 -0.021647636 -0.039879269 -0.012261050  0.008266272 -0.030645142 -0.009024135\n",
       "5 -0.005211315  0.077820966  0.003271938 -0.000581543 -0.005560054  0.007421078\n",
       "6 -0.010917636 -0.020706064 -0.018241547 -0.002563062 -0.005090636 -0.012728727\n",
       "  genetic_pc10\n",
       "1 -0.006482491\n",
       "2 -0.023738861\n",
       "3 -0.014689382\n",
       "4 -0.036456080\n",
       "5 -0.003656812\n",
       "6  0.012058891"
      ]
     },
     "metadata": {},
     "output_type": "display_data"
    }
   ],
   "source": [
    "covariate_df <- data.frame(\"FID\" = ptype$subjectID, \"IID\" = pcs$subjectID, \n",
    "                           \"age\" = ptype$r1agey, \"sex\" = ptype$ragender,\n",
    "                          \"education\" = ptype$raeducl, \"genetic_pc1\" = pcs$EV1,\n",
    "                          \"genetic_pc2\" = pcs$EV2, \"genetic_pc3\" = pcs$EV3,\n",
    "                          \"genetic_pc4\" = pcs$EV4, \"genetic_pc5\" = pcs$EV5,\n",
    "                          \"genetic_pc6\" = pcs$EV6, \"genetic_pc7\" = pcs$EV7,\n",
    "                          \"genetic_pc8\" = pcs$EV8, \"genetic_pc9\" = pcs$EV9,\n",
    "                          \"genetic_pc10\" = pcs$EV10)\n",
    "head(covariate_df)\n",
    "cov_df_fid0 <- covariate_df\n",
    "cov_df_fid0$FID <- 0"
   ]
  },
  {
   "cell_type": "code",
   "execution_count": 16,
   "metadata": {},
   "outputs": [
    {
     "data": {
      "text/html": [
       "<style>\n",
       ".list-inline {list-style: none; margin:0; padding: 0}\n",
       ".list-inline>li {display: inline-block}\n",
       ".list-inline>li:not(:last-child)::after {content: \"\\00b7\"; padding: 0 .5ex}\n",
       "</style>\n",
       "<ol class=list-inline><li>400</li><li>15</li></ol>\n"
      ],
      "text/latex": [
       "\\begin{enumerate*}\n",
       "\\item 400\n",
       "\\item 15\n",
       "\\end{enumerate*}\n"
      ],
      "text/markdown": [
       "1. 400\n",
       "2. 15\n",
       "\n",
       "\n"
      ],
      "text/plain": [
       "[1] 400  15"
      ]
     },
     "metadata": {},
     "output_type": "display_data"
    },
    {
     "data": {
      "text/html": [
       "<table class=\"dataframe\">\n",
       "<caption>A data.frame: 15 × 15</caption>\n",
       "<thead>\n",
       "\t<tr><th></th><th scope=col>FID</th><th scope=col>IID</th><th scope=col>age</th><th scope=col>sex</th><th scope=col>education</th><th scope=col>genetic_pc1</th><th scope=col>genetic_pc2</th><th scope=col>genetic_pc3</th><th scope=col>genetic_pc4</th><th scope=col>genetic_pc5</th><th scope=col>genetic_pc6</th><th scope=col>genetic_pc7</th><th scope=col>genetic_pc8</th><th scope=col>genetic_pc9</th><th scope=col>genetic_pc10</th></tr>\n",
       "\t<tr><th></th><th scope=col>&lt;chr&gt;</th><th scope=col>&lt;chr&gt;</th><th scope=col>&lt;int&gt;</th><th scope=col>&lt;dbl&gt;</th><th scope=col>&lt;dbl&gt;</th><th scope=col>&lt;dbl&gt;</th><th scope=col>&lt;dbl&gt;</th><th scope=col>&lt;dbl&gt;</th><th scope=col>&lt;dbl&gt;</th><th scope=col>&lt;dbl&gt;</th><th scope=col>&lt;dbl&gt;</th><th scope=col>&lt;dbl&gt;</th><th scope=col>&lt;dbl&gt;</th><th scope=col>&lt;dbl&gt;</th><th scope=col>&lt;dbl&gt;</th></tr>\n",
       "</thead>\n",
       "<tbody>\n",
       "\t<tr><th scope=row>1</th><td>L1 </td><td>L1 </td><td>70</td><td>1</td><td>1</td><td> 0.023947792</td><td>-0.010886505</td><td> 0.015642008</td><td>-0.013605539</td><td>-0.022249211</td><td>-0.006838284</td><td> 0.011093844</td><td>-0.004274481</td><td>-0.002988073</td><td>-0.006482491</td></tr>\n",
       "\t<tr><th scope=row>2</th><td>L2 </td><td>L2 </td><td>84</td><td>1</td><td>2</td><td>-0.015955208</td><td>-0.009363282</td><td>-0.012800234</td><td> 0.011564254</td><td>-0.007814221</td><td>-0.027829510</td><td> 0.010623701</td><td> 0.001211459</td><td>-0.004220076</td><td>-0.023738861</td></tr>\n",
       "\t<tr><th scope=row>3</th><td>L3 </td><td>L3 </td><td>62</td><td>1</td><td>2</td><td>-0.010632576</td><td> 0.058146700</td><td> 0.010389606</td><td> 0.006185627</td><td> 0.015692084</td><td>-0.022769097</td><td> 0.007212796</td><td>-0.009888203</td><td> 0.002175627</td><td>-0.014689382</td></tr>\n",
       "\t<tr><th scope=row>4</th><td>L4 </td><td>L4 </td><td>62</td><td>2</td><td>2</td><td>-0.060550042</td><td>-0.021497199</td><td> 0.001286160</td><td>-0.021647636</td><td>-0.039879269</td><td>-0.012261050</td><td> 0.008266272</td><td>-0.030645142</td><td>-0.009024135</td><td>-0.036456080</td></tr>\n",
       "\t<tr><th scope=row>5</th><td>L5 </td><td>L5 </td><td>68</td><td>2</td><td>1</td><td> 0.017019493</td><td>-0.024483824</td><td> 0.107372941</td><td>-0.005211315</td><td> 0.077820966</td><td> 0.003271938</td><td>-0.000581543</td><td>-0.005560054</td><td> 0.007421078</td><td>-0.003656812</td></tr>\n",
       "\t<tr><th scope=row>6</th><td>L6 </td><td>L6 </td><td>66</td><td>2</td><td>1</td><td> 0.031705225</td><td>-0.002269645</td><td> 0.003643671</td><td>-0.010917636</td><td>-0.020706064</td><td>-0.018241547</td><td>-0.002563062</td><td>-0.005090636</td><td>-0.012728727</td><td> 0.012058891</td></tr>\n",
       "\t<tr><th scope=row>7</th><td>L7 </td><td>L7 </td><td>85</td><td>1</td><td>2</td><td> 0.003256430</td><td> 0.005246588</td><td>-0.036807142</td><td>-0.004377058</td><td> 0.028011064</td><td>-0.002643993</td><td>-0.021063728</td><td> 0.010055732</td><td> 0.001999787</td><td> 0.010173593</td></tr>\n",
       "\t<tr><th scope=row>8</th><td>L8 </td><td>L8 </td><td>70</td><td>2</td><td>2</td><td>-0.014428840</td><td> 0.001438634</td><td>-0.013198300</td><td> 0.018506810</td><td> 0.011941803</td><td> 0.009265746</td><td> 0.002805872</td><td> 0.012235550</td><td>-0.043170339</td><td>-0.001257717</td></tr>\n",
       "\t<tr><th scope=row>9</th><td>L9 </td><td>L9 </td><td>78</td><td>1</td><td>2</td><td> 0.000163294</td><td>-0.014589893</td><td> 0.008450593</td><td> 0.009954993</td><td>-0.054269374</td><td> 0.003570816</td><td> 0.004851744</td><td>-0.004440891</td><td> 0.005157107</td><td> 0.020338232</td></tr>\n",
       "\t<tr><th scope=row>10</th><td>L10</td><td>L10</td><td>62</td><td>1</td><td>1</td><td>-0.016634898</td><td> 0.025171798</td><td>-0.016235891</td><td> 0.001143281</td><td>-0.000736940</td><td>-0.002434734</td><td>-0.004853057</td><td> 0.007518814</td><td> 0.008392966</td><td>-0.005746723</td></tr>\n",
       "\t<tr><th scope=row>11</th><td>L11</td><td>L11</td><td>70</td><td>1</td><td>1</td><td> 0.023947792</td><td>-0.010886505</td><td> 0.015642008</td><td>-0.013605539</td><td>-0.022249211</td><td>-0.006838284</td><td> 0.011093844</td><td>-0.004274481</td><td>-0.002988073</td><td>-0.006482491</td></tr>\n",
       "\t<tr><th scope=row>1.1</th><td>L12</td><td>L12</td><td>70</td><td>1</td><td>1</td><td> 0.023947792</td><td>-0.010886505</td><td> 0.015642008</td><td>-0.013605539</td><td>-0.022249211</td><td>-0.006838284</td><td> 0.011093844</td><td>-0.004274481</td><td>-0.002988073</td><td>-0.006482491</td></tr>\n",
       "\t<tr><th scope=row>1.2</th><td>L13</td><td>L13</td><td>70</td><td>1</td><td>1</td><td> 0.023947792</td><td>-0.010886505</td><td> 0.015642008</td><td>-0.013605539</td><td>-0.022249211</td><td>-0.006838284</td><td> 0.011093844</td><td>-0.004274481</td><td>-0.002988073</td><td>-0.006482491</td></tr>\n",
       "\t<tr><th scope=row>1.3</th><td>L14</td><td>L14</td><td>70</td><td>1</td><td>1</td><td> 0.023947792</td><td>-0.010886505</td><td> 0.015642008</td><td>-0.013605539</td><td>-0.022249211</td><td>-0.006838284</td><td> 0.011093844</td><td>-0.004274481</td><td>-0.002988073</td><td>-0.006482491</td></tr>\n",
       "\t<tr><th scope=row>1.4</th><td>L15</td><td>L15</td><td>70</td><td>1</td><td>1</td><td> 0.023947792</td><td>-0.010886505</td><td> 0.015642008</td><td>-0.013605539</td><td>-0.022249211</td><td>-0.006838284</td><td> 0.011093844</td><td>-0.004274481</td><td>-0.002988073</td><td>-0.006482491</td></tr>\n",
       "</tbody>\n",
       "</table>\n"
      ],
      "text/latex": [
       "A data.frame: 15 × 15\n",
       "\\begin{tabular}{r|lllllllllllllll}\n",
       "  & FID & IID & age & sex & education & genetic\\_pc1 & genetic\\_pc2 & genetic\\_pc3 & genetic\\_pc4 & genetic\\_pc5 & genetic\\_pc6 & genetic\\_pc7 & genetic\\_pc8 & genetic\\_pc9 & genetic\\_pc10\\\\\n",
       "  & <chr> & <chr> & <int> & <dbl> & <dbl> & <dbl> & <dbl> & <dbl> & <dbl> & <dbl> & <dbl> & <dbl> & <dbl> & <dbl> & <dbl>\\\\\n",
       "\\hline\n",
       "\t1 & L1  & L1  & 70 & 1 & 1 &  0.023947792 & -0.010886505 &  0.015642008 & -0.013605539 & -0.022249211 & -0.006838284 &  0.011093844 & -0.004274481 & -0.002988073 & -0.006482491\\\\\n",
       "\t2 & L2  & L2  & 84 & 1 & 2 & -0.015955208 & -0.009363282 & -0.012800234 &  0.011564254 & -0.007814221 & -0.027829510 &  0.010623701 &  0.001211459 & -0.004220076 & -0.023738861\\\\\n",
       "\t3 & L3  & L3  & 62 & 1 & 2 & -0.010632576 &  0.058146700 &  0.010389606 &  0.006185627 &  0.015692084 & -0.022769097 &  0.007212796 & -0.009888203 &  0.002175627 & -0.014689382\\\\\n",
       "\t4 & L4  & L4  & 62 & 2 & 2 & -0.060550042 & -0.021497199 &  0.001286160 & -0.021647636 & -0.039879269 & -0.012261050 &  0.008266272 & -0.030645142 & -0.009024135 & -0.036456080\\\\\n",
       "\t5 & L5  & L5  & 68 & 2 & 1 &  0.017019493 & -0.024483824 &  0.107372941 & -0.005211315 &  0.077820966 &  0.003271938 & -0.000581543 & -0.005560054 &  0.007421078 & -0.003656812\\\\\n",
       "\t6 & L6  & L6  & 66 & 2 & 1 &  0.031705225 & -0.002269645 &  0.003643671 & -0.010917636 & -0.020706064 & -0.018241547 & -0.002563062 & -0.005090636 & -0.012728727 &  0.012058891\\\\\n",
       "\t7 & L7  & L7  & 85 & 1 & 2 &  0.003256430 &  0.005246588 & -0.036807142 & -0.004377058 &  0.028011064 & -0.002643993 & -0.021063728 &  0.010055732 &  0.001999787 &  0.010173593\\\\\n",
       "\t8 & L8  & L8  & 70 & 2 & 2 & -0.014428840 &  0.001438634 & -0.013198300 &  0.018506810 &  0.011941803 &  0.009265746 &  0.002805872 &  0.012235550 & -0.043170339 & -0.001257717\\\\\n",
       "\t9 & L9  & L9  & 78 & 1 & 2 &  0.000163294 & -0.014589893 &  0.008450593 &  0.009954993 & -0.054269374 &  0.003570816 &  0.004851744 & -0.004440891 &  0.005157107 &  0.020338232\\\\\n",
       "\t10 & L10 & L10 & 62 & 1 & 1 & -0.016634898 &  0.025171798 & -0.016235891 &  0.001143281 & -0.000736940 & -0.002434734 & -0.004853057 &  0.007518814 &  0.008392966 & -0.005746723\\\\\n",
       "\t11 & L11 & L11 & 70 & 1 & 1 &  0.023947792 & -0.010886505 &  0.015642008 & -0.013605539 & -0.022249211 & -0.006838284 &  0.011093844 & -0.004274481 & -0.002988073 & -0.006482491\\\\\n",
       "\t1.1 & L12 & L12 & 70 & 1 & 1 &  0.023947792 & -0.010886505 &  0.015642008 & -0.013605539 & -0.022249211 & -0.006838284 &  0.011093844 & -0.004274481 & -0.002988073 & -0.006482491\\\\\n",
       "\t1.2 & L13 & L13 & 70 & 1 & 1 &  0.023947792 & -0.010886505 &  0.015642008 & -0.013605539 & -0.022249211 & -0.006838284 &  0.011093844 & -0.004274481 & -0.002988073 & -0.006482491\\\\\n",
       "\t1.3 & L14 & L14 & 70 & 1 & 1 &  0.023947792 & -0.010886505 &  0.015642008 & -0.013605539 & -0.022249211 & -0.006838284 &  0.011093844 & -0.004274481 & -0.002988073 & -0.006482491\\\\\n",
       "\t1.4 & L15 & L15 & 70 & 1 & 1 &  0.023947792 & -0.010886505 &  0.015642008 & -0.013605539 & -0.022249211 & -0.006838284 &  0.011093844 & -0.004274481 & -0.002988073 & -0.006482491\\\\\n",
       "\\end{tabular}\n"
      ],
      "text/markdown": [
       "\n",
       "A data.frame: 15 × 15\n",
       "\n",
       "| <!--/--> | FID &lt;chr&gt; | IID &lt;chr&gt; | age &lt;int&gt; | sex &lt;dbl&gt; | education &lt;dbl&gt; | genetic_pc1 &lt;dbl&gt; | genetic_pc2 &lt;dbl&gt; | genetic_pc3 &lt;dbl&gt; | genetic_pc4 &lt;dbl&gt; | genetic_pc5 &lt;dbl&gt; | genetic_pc6 &lt;dbl&gt; | genetic_pc7 &lt;dbl&gt; | genetic_pc8 &lt;dbl&gt; | genetic_pc9 &lt;dbl&gt; | genetic_pc10 &lt;dbl&gt; |\n",
       "|---|---|---|---|---|---|---|---|---|---|---|---|---|---|---|---|\n",
       "| 1 | L1  | L1  | 70 | 1 | 1 |  0.023947792 | -0.010886505 |  0.015642008 | -0.013605539 | -0.022249211 | -0.006838284 |  0.011093844 | -0.004274481 | -0.002988073 | -0.006482491 |\n",
       "| 2 | L2  | L2  | 84 | 1 | 2 | -0.015955208 | -0.009363282 | -0.012800234 |  0.011564254 | -0.007814221 | -0.027829510 |  0.010623701 |  0.001211459 | -0.004220076 | -0.023738861 |\n",
       "| 3 | L3  | L3  | 62 | 1 | 2 | -0.010632576 |  0.058146700 |  0.010389606 |  0.006185627 |  0.015692084 | -0.022769097 |  0.007212796 | -0.009888203 |  0.002175627 | -0.014689382 |\n",
       "| 4 | L4  | L4  | 62 | 2 | 2 | -0.060550042 | -0.021497199 |  0.001286160 | -0.021647636 | -0.039879269 | -0.012261050 |  0.008266272 | -0.030645142 | -0.009024135 | -0.036456080 |\n",
       "| 5 | L5  | L5  | 68 | 2 | 1 |  0.017019493 | -0.024483824 |  0.107372941 | -0.005211315 |  0.077820966 |  0.003271938 | -0.000581543 | -0.005560054 |  0.007421078 | -0.003656812 |\n",
       "| 6 | L6  | L6  | 66 | 2 | 1 |  0.031705225 | -0.002269645 |  0.003643671 | -0.010917636 | -0.020706064 | -0.018241547 | -0.002563062 | -0.005090636 | -0.012728727 |  0.012058891 |\n",
       "| 7 | L7  | L7  | 85 | 1 | 2 |  0.003256430 |  0.005246588 | -0.036807142 | -0.004377058 |  0.028011064 | -0.002643993 | -0.021063728 |  0.010055732 |  0.001999787 |  0.010173593 |\n",
       "| 8 | L8  | L8  | 70 | 2 | 2 | -0.014428840 |  0.001438634 | -0.013198300 |  0.018506810 |  0.011941803 |  0.009265746 |  0.002805872 |  0.012235550 | -0.043170339 | -0.001257717 |\n",
       "| 9 | L9  | L9  | 78 | 1 | 2 |  0.000163294 | -0.014589893 |  0.008450593 |  0.009954993 | -0.054269374 |  0.003570816 |  0.004851744 | -0.004440891 |  0.005157107 |  0.020338232 |\n",
       "| 10 | L10 | L10 | 62 | 1 | 1 | -0.016634898 |  0.025171798 | -0.016235891 |  0.001143281 | -0.000736940 | -0.002434734 | -0.004853057 |  0.007518814 |  0.008392966 | -0.005746723 |\n",
       "| 11 | L11 | L11 | 70 | 1 | 1 |  0.023947792 | -0.010886505 |  0.015642008 | -0.013605539 | -0.022249211 | -0.006838284 |  0.011093844 | -0.004274481 | -0.002988073 | -0.006482491 |\n",
       "| 1.1 | L12 | L12 | 70 | 1 | 1 |  0.023947792 | -0.010886505 |  0.015642008 | -0.013605539 | -0.022249211 | -0.006838284 |  0.011093844 | -0.004274481 | -0.002988073 | -0.006482491 |\n",
       "| 1.2 | L13 | L13 | 70 | 1 | 1 |  0.023947792 | -0.010886505 |  0.015642008 | -0.013605539 | -0.022249211 | -0.006838284 |  0.011093844 | -0.004274481 | -0.002988073 | -0.006482491 |\n",
       "| 1.3 | L14 | L14 | 70 | 1 | 1 |  0.023947792 | -0.010886505 |  0.015642008 | -0.013605539 | -0.022249211 | -0.006838284 |  0.011093844 | -0.004274481 | -0.002988073 | -0.006482491 |\n",
       "| 1.4 | L15 | L15 | 70 | 1 | 1 |  0.023947792 | -0.010886505 |  0.015642008 | -0.013605539 | -0.022249211 | -0.006838284 |  0.011093844 | -0.004274481 | -0.002988073 | -0.006482491 |\n",
       "\n"
      ],
      "text/plain": [
       "    FID IID age sex education genetic_pc1  genetic_pc2  genetic_pc3 \n",
       "1   L1  L1  70  1   1          0.023947792 -0.010886505  0.015642008\n",
       "2   L2  L2  84  1   2         -0.015955208 -0.009363282 -0.012800234\n",
       "3   L3  L3  62  1   2         -0.010632576  0.058146700  0.010389606\n",
       "4   L4  L4  62  2   2         -0.060550042 -0.021497199  0.001286160\n",
       "5   L5  L5  68  2   1          0.017019493 -0.024483824  0.107372941\n",
       "6   L6  L6  66  2   1          0.031705225 -0.002269645  0.003643671\n",
       "7   L7  L7  85  1   2          0.003256430  0.005246588 -0.036807142\n",
       "8   L8  L8  70  2   2         -0.014428840  0.001438634 -0.013198300\n",
       "9   L9  L9  78  1   2          0.000163294 -0.014589893  0.008450593\n",
       "10  L10 L10 62  1   1         -0.016634898  0.025171798 -0.016235891\n",
       "11  L11 L11 70  1   1          0.023947792 -0.010886505  0.015642008\n",
       "1.1 L12 L12 70  1   1          0.023947792 -0.010886505  0.015642008\n",
       "1.2 L13 L13 70  1   1          0.023947792 -0.010886505  0.015642008\n",
       "1.3 L14 L14 70  1   1          0.023947792 -0.010886505  0.015642008\n",
       "1.4 L15 L15 70  1   1          0.023947792 -0.010886505  0.015642008\n",
       "    genetic_pc4  genetic_pc5  genetic_pc6  genetic_pc7  genetic_pc8 \n",
       "1   -0.013605539 -0.022249211 -0.006838284  0.011093844 -0.004274481\n",
       "2    0.011564254 -0.007814221 -0.027829510  0.010623701  0.001211459\n",
       "3    0.006185627  0.015692084 -0.022769097  0.007212796 -0.009888203\n",
       "4   -0.021647636 -0.039879269 -0.012261050  0.008266272 -0.030645142\n",
       "5   -0.005211315  0.077820966  0.003271938 -0.000581543 -0.005560054\n",
       "6   -0.010917636 -0.020706064 -0.018241547 -0.002563062 -0.005090636\n",
       "7   -0.004377058  0.028011064 -0.002643993 -0.021063728  0.010055732\n",
       "8    0.018506810  0.011941803  0.009265746  0.002805872  0.012235550\n",
       "9    0.009954993 -0.054269374  0.003570816  0.004851744 -0.004440891\n",
       "10   0.001143281 -0.000736940 -0.002434734 -0.004853057  0.007518814\n",
       "11  -0.013605539 -0.022249211 -0.006838284  0.011093844 -0.004274481\n",
       "1.1 -0.013605539 -0.022249211 -0.006838284  0.011093844 -0.004274481\n",
       "1.2 -0.013605539 -0.022249211 -0.006838284  0.011093844 -0.004274481\n",
       "1.3 -0.013605539 -0.022249211 -0.006838284  0.011093844 -0.004274481\n",
       "1.4 -0.013605539 -0.022249211 -0.006838284  0.011093844 -0.004274481\n",
       "    genetic_pc9  genetic_pc10\n",
       "1   -0.002988073 -0.006482491\n",
       "2   -0.004220076 -0.023738861\n",
       "3    0.002175627 -0.014689382\n",
       "4   -0.009024135 -0.036456080\n",
       "5    0.007421078 -0.003656812\n",
       "6   -0.012728727  0.012058891\n",
       "7    0.001999787  0.010173593\n",
       "8   -0.043170339 -0.001257717\n",
       "9    0.005157107  0.020338232\n",
       "10   0.008392966 -0.005746723\n",
       "11  -0.002988073 -0.006482491\n",
       "1.1 -0.002988073 -0.006482491\n",
       "1.2 -0.002988073 -0.006482491\n",
       "1.3 -0.002988073 -0.006482491\n",
       "1.4 -0.002988073 -0.006482491"
      ]
     },
     "metadata": {},
     "output_type": "display_data"
    },
    {
     "data": {
      "text/html": [
       "<table class=\"dataframe\">\n",
       "<caption>A data.frame: 15 × 15</caption>\n",
       "<thead>\n",
       "\t<tr><th></th><th scope=col>FID</th><th scope=col>IID</th><th scope=col>age</th><th scope=col>sex</th><th scope=col>education</th><th scope=col>genetic_pc1</th><th scope=col>genetic_pc2</th><th scope=col>genetic_pc3</th><th scope=col>genetic_pc4</th><th scope=col>genetic_pc5</th><th scope=col>genetic_pc6</th><th scope=col>genetic_pc7</th><th scope=col>genetic_pc8</th><th scope=col>genetic_pc9</th><th scope=col>genetic_pc10</th></tr>\n",
       "\t<tr><th></th><th scope=col>&lt;dbl&gt;</th><th scope=col>&lt;chr&gt;</th><th scope=col>&lt;int&gt;</th><th scope=col>&lt;dbl&gt;</th><th scope=col>&lt;dbl&gt;</th><th scope=col>&lt;dbl&gt;</th><th scope=col>&lt;dbl&gt;</th><th scope=col>&lt;dbl&gt;</th><th scope=col>&lt;dbl&gt;</th><th scope=col>&lt;dbl&gt;</th><th scope=col>&lt;dbl&gt;</th><th scope=col>&lt;dbl&gt;</th><th scope=col>&lt;dbl&gt;</th><th scope=col>&lt;dbl&gt;</th><th scope=col>&lt;dbl&gt;</th></tr>\n",
       "</thead>\n",
       "<tbody>\n",
       "\t<tr><th scope=row>1</th><td>0</td><td>L1 </td><td>70</td><td>1</td><td>1</td><td> 0.023947792</td><td>-0.010886505</td><td> 0.015642008</td><td>-0.013605539</td><td>-0.022249211</td><td>-0.006838284</td><td> 0.011093844</td><td>-0.004274481</td><td>-0.002988073</td><td>-0.006482491</td></tr>\n",
       "\t<tr><th scope=row>2</th><td>0</td><td>L2 </td><td>84</td><td>1</td><td>2</td><td>-0.015955208</td><td>-0.009363282</td><td>-0.012800234</td><td> 0.011564254</td><td>-0.007814221</td><td>-0.027829510</td><td> 0.010623701</td><td> 0.001211459</td><td>-0.004220076</td><td>-0.023738861</td></tr>\n",
       "\t<tr><th scope=row>3</th><td>0</td><td>L3 </td><td>62</td><td>1</td><td>2</td><td>-0.010632576</td><td> 0.058146700</td><td> 0.010389606</td><td> 0.006185627</td><td> 0.015692084</td><td>-0.022769097</td><td> 0.007212796</td><td>-0.009888203</td><td> 0.002175627</td><td>-0.014689382</td></tr>\n",
       "\t<tr><th scope=row>4</th><td>0</td><td>L4 </td><td>62</td><td>2</td><td>2</td><td>-0.060550042</td><td>-0.021497199</td><td> 0.001286160</td><td>-0.021647636</td><td>-0.039879269</td><td>-0.012261050</td><td> 0.008266272</td><td>-0.030645142</td><td>-0.009024135</td><td>-0.036456080</td></tr>\n",
       "\t<tr><th scope=row>5</th><td>0</td><td>L5 </td><td>68</td><td>2</td><td>1</td><td> 0.017019493</td><td>-0.024483824</td><td> 0.107372941</td><td>-0.005211315</td><td> 0.077820966</td><td> 0.003271938</td><td>-0.000581543</td><td>-0.005560054</td><td> 0.007421078</td><td>-0.003656812</td></tr>\n",
       "\t<tr><th scope=row>6</th><td>0</td><td>L6 </td><td>66</td><td>2</td><td>1</td><td> 0.031705225</td><td>-0.002269645</td><td> 0.003643671</td><td>-0.010917636</td><td>-0.020706064</td><td>-0.018241547</td><td>-0.002563062</td><td>-0.005090636</td><td>-0.012728727</td><td> 0.012058891</td></tr>\n",
       "\t<tr><th scope=row>7</th><td>0</td><td>L7 </td><td>85</td><td>1</td><td>2</td><td> 0.003256430</td><td> 0.005246588</td><td>-0.036807142</td><td>-0.004377058</td><td> 0.028011064</td><td>-0.002643993</td><td>-0.021063728</td><td> 0.010055732</td><td> 0.001999787</td><td> 0.010173593</td></tr>\n",
       "\t<tr><th scope=row>8</th><td>0</td><td>L8 </td><td>70</td><td>2</td><td>2</td><td>-0.014428840</td><td> 0.001438634</td><td>-0.013198300</td><td> 0.018506810</td><td> 0.011941803</td><td> 0.009265746</td><td> 0.002805872</td><td> 0.012235550</td><td>-0.043170339</td><td>-0.001257717</td></tr>\n",
       "\t<tr><th scope=row>9</th><td>0</td><td>L9 </td><td>78</td><td>1</td><td>2</td><td> 0.000163294</td><td>-0.014589893</td><td> 0.008450593</td><td> 0.009954993</td><td>-0.054269374</td><td> 0.003570816</td><td> 0.004851744</td><td>-0.004440891</td><td> 0.005157107</td><td> 0.020338232</td></tr>\n",
       "\t<tr><th scope=row>10</th><td>0</td><td>L10</td><td>62</td><td>1</td><td>1</td><td>-0.016634898</td><td> 0.025171798</td><td>-0.016235891</td><td> 0.001143281</td><td>-0.000736940</td><td>-0.002434734</td><td>-0.004853057</td><td> 0.007518814</td><td> 0.008392966</td><td>-0.005746723</td></tr>\n",
       "\t<tr><th scope=row>11</th><td>0</td><td>L11</td><td>70</td><td>1</td><td>1</td><td> 0.023947792</td><td>-0.010886505</td><td> 0.015642008</td><td>-0.013605539</td><td>-0.022249211</td><td>-0.006838284</td><td> 0.011093844</td><td>-0.004274481</td><td>-0.002988073</td><td>-0.006482491</td></tr>\n",
       "\t<tr><th scope=row>1.1</th><td>0</td><td>L12</td><td>70</td><td>1</td><td>1</td><td> 0.023947792</td><td>-0.010886505</td><td> 0.015642008</td><td>-0.013605539</td><td>-0.022249211</td><td>-0.006838284</td><td> 0.011093844</td><td>-0.004274481</td><td>-0.002988073</td><td>-0.006482491</td></tr>\n",
       "\t<tr><th scope=row>1.2</th><td>0</td><td>L13</td><td>70</td><td>1</td><td>1</td><td> 0.023947792</td><td>-0.010886505</td><td> 0.015642008</td><td>-0.013605539</td><td>-0.022249211</td><td>-0.006838284</td><td> 0.011093844</td><td>-0.004274481</td><td>-0.002988073</td><td>-0.006482491</td></tr>\n",
       "\t<tr><th scope=row>1.3</th><td>0</td><td>L14</td><td>70</td><td>1</td><td>1</td><td> 0.023947792</td><td>-0.010886505</td><td> 0.015642008</td><td>-0.013605539</td><td>-0.022249211</td><td>-0.006838284</td><td> 0.011093844</td><td>-0.004274481</td><td>-0.002988073</td><td>-0.006482491</td></tr>\n",
       "\t<tr><th scope=row>1.4</th><td>0</td><td>L15</td><td>70</td><td>1</td><td>1</td><td> 0.023947792</td><td>-0.010886505</td><td> 0.015642008</td><td>-0.013605539</td><td>-0.022249211</td><td>-0.006838284</td><td> 0.011093844</td><td>-0.004274481</td><td>-0.002988073</td><td>-0.006482491</td></tr>\n",
       "</tbody>\n",
       "</table>\n"
      ],
      "text/latex": [
       "A data.frame: 15 × 15\n",
       "\\begin{tabular}{r|lllllllllllllll}\n",
       "  & FID & IID & age & sex & education & genetic\\_pc1 & genetic\\_pc2 & genetic\\_pc3 & genetic\\_pc4 & genetic\\_pc5 & genetic\\_pc6 & genetic\\_pc7 & genetic\\_pc8 & genetic\\_pc9 & genetic\\_pc10\\\\\n",
       "  & <dbl> & <chr> & <int> & <dbl> & <dbl> & <dbl> & <dbl> & <dbl> & <dbl> & <dbl> & <dbl> & <dbl> & <dbl> & <dbl> & <dbl>\\\\\n",
       "\\hline\n",
       "\t1 & 0 & L1  & 70 & 1 & 1 &  0.023947792 & -0.010886505 &  0.015642008 & -0.013605539 & -0.022249211 & -0.006838284 &  0.011093844 & -0.004274481 & -0.002988073 & -0.006482491\\\\\n",
       "\t2 & 0 & L2  & 84 & 1 & 2 & -0.015955208 & -0.009363282 & -0.012800234 &  0.011564254 & -0.007814221 & -0.027829510 &  0.010623701 &  0.001211459 & -0.004220076 & -0.023738861\\\\\n",
       "\t3 & 0 & L3  & 62 & 1 & 2 & -0.010632576 &  0.058146700 &  0.010389606 &  0.006185627 &  0.015692084 & -0.022769097 &  0.007212796 & -0.009888203 &  0.002175627 & -0.014689382\\\\\n",
       "\t4 & 0 & L4  & 62 & 2 & 2 & -0.060550042 & -0.021497199 &  0.001286160 & -0.021647636 & -0.039879269 & -0.012261050 &  0.008266272 & -0.030645142 & -0.009024135 & -0.036456080\\\\\n",
       "\t5 & 0 & L5  & 68 & 2 & 1 &  0.017019493 & -0.024483824 &  0.107372941 & -0.005211315 &  0.077820966 &  0.003271938 & -0.000581543 & -0.005560054 &  0.007421078 & -0.003656812\\\\\n",
       "\t6 & 0 & L6  & 66 & 2 & 1 &  0.031705225 & -0.002269645 &  0.003643671 & -0.010917636 & -0.020706064 & -0.018241547 & -0.002563062 & -0.005090636 & -0.012728727 &  0.012058891\\\\\n",
       "\t7 & 0 & L7  & 85 & 1 & 2 &  0.003256430 &  0.005246588 & -0.036807142 & -0.004377058 &  0.028011064 & -0.002643993 & -0.021063728 &  0.010055732 &  0.001999787 &  0.010173593\\\\\n",
       "\t8 & 0 & L8  & 70 & 2 & 2 & -0.014428840 &  0.001438634 & -0.013198300 &  0.018506810 &  0.011941803 &  0.009265746 &  0.002805872 &  0.012235550 & -0.043170339 & -0.001257717\\\\\n",
       "\t9 & 0 & L9  & 78 & 1 & 2 &  0.000163294 & -0.014589893 &  0.008450593 &  0.009954993 & -0.054269374 &  0.003570816 &  0.004851744 & -0.004440891 &  0.005157107 &  0.020338232\\\\\n",
       "\t10 & 0 & L10 & 62 & 1 & 1 & -0.016634898 &  0.025171798 & -0.016235891 &  0.001143281 & -0.000736940 & -0.002434734 & -0.004853057 &  0.007518814 &  0.008392966 & -0.005746723\\\\\n",
       "\t11 & 0 & L11 & 70 & 1 & 1 &  0.023947792 & -0.010886505 &  0.015642008 & -0.013605539 & -0.022249211 & -0.006838284 &  0.011093844 & -0.004274481 & -0.002988073 & -0.006482491\\\\\n",
       "\t1.1 & 0 & L12 & 70 & 1 & 1 &  0.023947792 & -0.010886505 &  0.015642008 & -0.013605539 & -0.022249211 & -0.006838284 &  0.011093844 & -0.004274481 & -0.002988073 & -0.006482491\\\\\n",
       "\t1.2 & 0 & L13 & 70 & 1 & 1 &  0.023947792 & -0.010886505 &  0.015642008 & -0.013605539 & -0.022249211 & -0.006838284 &  0.011093844 & -0.004274481 & -0.002988073 & -0.006482491\\\\\n",
       "\t1.3 & 0 & L14 & 70 & 1 & 1 &  0.023947792 & -0.010886505 &  0.015642008 & -0.013605539 & -0.022249211 & -0.006838284 &  0.011093844 & -0.004274481 & -0.002988073 & -0.006482491\\\\\n",
       "\t1.4 & 0 & L15 & 70 & 1 & 1 &  0.023947792 & -0.010886505 &  0.015642008 & -0.013605539 & -0.022249211 & -0.006838284 &  0.011093844 & -0.004274481 & -0.002988073 & -0.006482491\\\\\n",
       "\\end{tabular}\n"
      ],
      "text/markdown": [
       "\n",
       "A data.frame: 15 × 15\n",
       "\n",
       "| <!--/--> | FID &lt;dbl&gt; | IID &lt;chr&gt; | age &lt;int&gt; | sex &lt;dbl&gt; | education &lt;dbl&gt; | genetic_pc1 &lt;dbl&gt; | genetic_pc2 &lt;dbl&gt; | genetic_pc3 &lt;dbl&gt; | genetic_pc4 &lt;dbl&gt; | genetic_pc5 &lt;dbl&gt; | genetic_pc6 &lt;dbl&gt; | genetic_pc7 &lt;dbl&gt; | genetic_pc8 &lt;dbl&gt; | genetic_pc9 &lt;dbl&gt; | genetic_pc10 &lt;dbl&gt; |\n",
       "|---|---|---|---|---|---|---|---|---|---|---|---|---|---|---|---|\n",
       "| 1 | 0 | L1  | 70 | 1 | 1 |  0.023947792 | -0.010886505 |  0.015642008 | -0.013605539 | -0.022249211 | -0.006838284 |  0.011093844 | -0.004274481 | -0.002988073 | -0.006482491 |\n",
       "| 2 | 0 | L2  | 84 | 1 | 2 | -0.015955208 | -0.009363282 | -0.012800234 |  0.011564254 | -0.007814221 | -0.027829510 |  0.010623701 |  0.001211459 | -0.004220076 | -0.023738861 |\n",
       "| 3 | 0 | L3  | 62 | 1 | 2 | -0.010632576 |  0.058146700 |  0.010389606 |  0.006185627 |  0.015692084 | -0.022769097 |  0.007212796 | -0.009888203 |  0.002175627 | -0.014689382 |\n",
       "| 4 | 0 | L4  | 62 | 2 | 2 | -0.060550042 | -0.021497199 |  0.001286160 | -0.021647636 | -0.039879269 | -0.012261050 |  0.008266272 | -0.030645142 | -0.009024135 | -0.036456080 |\n",
       "| 5 | 0 | L5  | 68 | 2 | 1 |  0.017019493 | -0.024483824 |  0.107372941 | -0.005211315 |  0.077820966 |  0.003271938 | -0.000581543 | -0.005560054 |  0.007421078 | -0.003656812 |\n",
       "| 6 | 0 | L6  | 66 | 2 | 1 |  0.031705225 | -0.002269645 |  0.003643671 | -0.010917636 | -0.020706064 | -0.018241547 | -0.002563062 | -0.005090636 | -0.012728727 |  0.012058891 |\n",
       "| 7 | 0 | L7  | 85 | 1 | 2 |  0.003256430 |  0.005246588 | -0.036807142 | -0.004377058 |  0.028011064 | -0.002643993 | -0.021063728 |  0.010055732 |  0.001999787 |  0.010173593 |\n",
       "| 8 | 0 | L8  | 70 | 2 | 2 | -0.014428840 |  0.001438634 | -0.013198300 |  0.018506810 |  0.011941803 |  0.009265746 |  0.002805872 |  0.012235550 | -0.043170339 | -0.001257717 |\n",
       "| 9 | 0 | L9  | 78 | 1 | 2 |  0.000163294 | -0.014589893 |  0.008450593 |  0.009954993 | -0.054269374 |  0.003570816 |  0.004851744 | -0.004440891 |  0.005157107 |  0.020338232 |\n",
       "| 10 | 0 | L10 | 62 | 1 | 1 | -0.016634898 |  0.025171798 | -0.016235891 |  0.001143281 | -0.000736940 | -0.002434734 | -0.004853057 |  0.007518814 |  0.008392966 | -0.005746723 |\n",
       "| 11 | 0 | L11 | 70 | 1 | 1 |  0.023947792 | -0.010886505 |  0.015642008 | -0.013605539 | -0.022249211 | -0.006838284 |  0.011093844 | -0.004274481 | -0.002988073 | -0.006482491 |\n",
       "| 1.1 | 0 | L12 | 70 | 1 | 1 |  0.023947792 | -0.010886505 |  0.015642008 | -0.013605539 | -0.022249211 | -0.006838284 |  0.011093844 | -0.004274481 | -0.002988073 | -0.006482491 |\n",
       "| 1.2 | 0 | L13 | 70 | 1 | 1 |  0.023947792 | -0.010886505 |  0.015642008 | -0.013605539 | -0.022249211 | -0.006838284 |  0.011093844 | -0.004274481 | -0.002988073 | -0.006482491 |\n",
       "| 1.3 | 0 | L14 | 70 | 1 | 1 |  0.023947792 | -0.010886505 |  0.015642008 | -0.013605539 | -0.022249211 | -0.006838284 |  0.011093844 | -0.004274481 | -0.002988073 | -0.006482491 |\n",
       "| 1.4 | 0 | L15 | 70 | 1 | 1 |  0.023947792 | -0.010886505 |  0.015642008 | -0.013605539 | -0.022249211 | -0.006838284 |  0.011093844 | -0.004274481 | -0.002988073 | -0.006482491 |\n",
       "\n"
      ],
      "text/plain": [
       "    FID IID age sex education genetic_pc1  genetic_pc2  genetic_pc3 \n",
       "1   0   L1  70  1   1          0.023947792 -0.010886505  0.015642008\n",
       "2   0   L2  84  1   2         -0.015955208 -0.009363282 -0.012800234\n",
       "3   0   L3  62  1   2         -0.010632576  0.058146700  0.010389606\n",
       "4   0   L4  62  2   2         -0.060550042 -0.021497199  0.001286160\n",
       "5   0   L5  68  2   1          0.017019493 -0.024483824  0.107372941\n",
       "6   0   L6  66  2   1          0.031705225 -0.002269645  0.003643671\n",
       "7   0   L7  85  1   2          0.003256430  0.005246588 -0.036807142\n",
       "8   0   L8  70  2   2         -0.014428840  0.001438634 -0.013198300\n",
       "9   0   L9  78  1   2          0.000163294 -0.014589893  0.008450593\n",
       "10  0   L10 62  1   1         -0.016634898  0.025171798 -0.016235891\n",
       "11  0   L11 70  1   1          0.023947792 -0.010886505  0.015642008\n",
       "1.1 0   L12 70  1   1          0.023947792 -0.010886505  0.015642008\n",
       "1.2 0   L13 70  1   1          0.023947792 -0.010886505  0.015642008\n",
       "1.3 0   L14 70  1   1          0.023947792 -0.010886505  0.015642008\n",
       "1.4 0   L15 70  1   1          0.023947792 -0.010886505  0.015642008\n",
       "    genetic_pc4  genetic_pc5  genetic_pc6  genetic_pc7  genetic_pc8 \n",
       "1   -0.013605539 -0.022249211 -0.006838284  0.011093844 -0.004274481\n",
       "2    0.011564254 -0.007814221 -0.027829510  0.010623701  0.001211459\n",
       "3    0.006185627  0.015692084 -0.022769097  0.007212796 -0.009888203\n",
       "4   -0.021647636 -0.039879269 -0.012261050  0.008266272 -0.030645142\n",
       "5   -0.005211315  0.077820966  0.003271938 -0.000581543 -0.005560054\n",
       "6   -0.010917636 -0.020706064 -0.018241547 -0.002563062 -0.005090636\n",
       "7   -0.004377058  0.028011064 -0.002643993 -0.021063728  0.010055732\n",
       "8    0.018506810  0.011941803  0.009265746  0.002805872  0.012235550\n",
       "9    0.009954993 -0.054269374  0.003570816  0.004851744 -0.004440891\n",
       "10   0.001143281 -0.000736940 -0.002434734 -0.004853057  0.007518814\n",
       "11  -0.013605539 -0.022249211 -0.006838284  0.011093844 -0.004274481\n",
       "1.1 -0.013605539 -0.022249211 -0.006838284  0.011093844 -0.004274481\n",
       "1.2 -0.013605539 -0.022249211 -0.006838284  0.011093844 -0.004274481\n",
       "1.3 -0.013605539 -0.022249211 -0.006838284  0.011093844 -0.004274481\n",
       "1.4 -0.013605539 -0.022249211 -0.006838284  0.011093844 -0.004274481\n",
       "    genetic_pc9  genetic_pc10\n",
       "1   -0.002988073 -0.006482491\n",
       "2   -0.004220076 -0.023738861\n",
       "3    0.002175627 -0.014689382\n",
       "4   -0.009024135 -0.036456080\n",
       "5    0.007421078 -0.003656812\n",
       "6   -0.012728727  0.012058891\n",
       "7    0.001999787  0.010173593\n",
       "8   -0.043170339 -0.001257717\n",
       "9    0.005157107  0.020338232\n",
       "10   0.008392966 -0.005746723\n",
       "11  -0.002988073 -0.006482491\n",
       "1.1 -0.002988073 -0.006482491\n",
       "1.2 -0.002988073 -0.006482491\n",
       "1.3 -0.002988073 -0.006482491\n",
       "1.4 -0.002988073 -0.006482491"
      ]
     },
     "metadata": {},
     "output_type": "display_data"
    }
   ],
   "source": [
    "## add 390 rows of syntheic\n",
    "covariate_duped <- rbind(covariate_df, covariate_df[rep(1, 390), ])\n",
    "dim(covariate_duped)\n",
    "## fix ID\n",
    "id <- seq(1, 400)\n",
    "id <- paste(\"L\", id, sep=\"\")\n",
    "covariate_duped$FID <- id\n",
    "covariate_duped$IID <- id\n",
    "cov_fid0_dup <- covariate_duped\n",
    "cov_fid0_dup$FID <- 0\n",
    "head(covariate_duped, 15)\n",
    "head(cov_fid0_dup, 15)"
   ]
  },
  {
   "cell_type": "code",
   "execution_count": 17,
   "metadata": {},
   "outputs": [],
   "source": [
    "## save files\n",
    "write_tsv(covariate_df, \"covariates.tsv\")\n",
    "write_tsv(cov_df_fid0, \"covariates_fid0.tsv\")\n",
    "write_tsv(covariate_duped, \"covariates_400.tsv\")\n",
    "write_tsv(cov_fid0_dup, \"covariates_fid0_400.tsv\")"
   ]
  },
  {
   "cell_type": "markdown",
   "metadata": {},
   "source": [
    "# Duplicate rows in phenotype data"
   ]
  },
  {
   "cell_type": "code",
   "execution_count": null,
   "metadata": {},
   "outputs": [],
   "source": [
    "dx download file-G7Q4bq808Y88vBZjPpgQVGVf\n",
    "dx download file-G7Q4by008Y803J0p83f3B76q"
   ]
  },
  {
   "cell_type": "code",
   "execution_count": 18,
   "metadata": {},
   "outputs": [
    {
     "name": "stderr",
     "output_type": "stream",
     "text": [
      "\u001b[1mRows: \u001b[22m\u001b[34m10\u001b[39m \u001b[1mColumns: \u001b[22m\u001b[34m6\u001b[39m\n",
      "\n",
      "\u001b[36m──\u001b[39m \u001b[1mColumn specification\u001b[22m \u001b[36m────────────────────────────────────────────────────────\u001b[39m\n",
      "\u001b[1mDelimiter:\u001b[22m \"\\t\"\n",
      "\u001b[31mchr\u001b[39m (1): IID\n",
      "\u001b[32mdbl\u001b[39m (5): FID, hypertension, T2DM, CHD, stroke\n",
      "\n",
      "\n",
      "\u001b[36mℹ\u001b[39m Use \u001b[30m\u001b[47m\u001b[30m\u001b[47m`spec()`\u001b[47m\u001b[30m\u001b[49m\u001b[39m to retrieve the full column specification for this data.\n",
      "\u001b[36mℹ\u001b[39m Specify the column types or set \u001b[30m\u001b[47m\u001b[30m\u001b[47m`show_col_types = FALSE`\u001b[47m\u001b[30m\u001b[49m\u001b[39m to quiet this message.\n",
      "\n",
      "\u001b[1mRows: \u001b[22m\u001b[34m10\u001b[39m \u001b[1mColumns: \u001b[22m\u001b[34m3\u001b[39m\n",
      "\n",
      "\u001b[36m──\u001b[39m \u001b[1mColumn specification\u001b[22m \u001b[36m────────────────────────────────────────────────────────\u001b[39m\n",
      "\u001b[1mDelimiter:\u001b[22m \"\\t\"\n",
      "\u001b[31mchr\u001b[39m (1): IID\n",
      "\u001b[32mdbl\u001b[39m (2): FID, ncd\n",
      "\n",
      "\n",
      "\u001b[36mℹ\u001b[39m Use \u001b[30m\u001b[47m\u001b[30m\u001b[47m`spec()`\u001b[47m\u001b[30m\u001b[49m\u001b[39m to retrieve the full column specification for this data.\n",
      "\u001b[36mℹ\u001b[39m Specify the column types or set \u001b[30m\u001b[47m\u001b[30m\u001b[47m`show_col_types = FALSE`\u001b[47m\u001b[30m\u001b[49m\u001b[39m to quiet this message.\n",
      "\n"
     ]
    },
    {
     "data": {
      "text/html": [
       "<table class=\"dataframe\">\n",
       "<caption>A tibble: 6 × 6</caption>\n",
       "<thead>\n",
       "\t<tr><th scope=col>FID</th><th scope=col>IID</th><th scope=col>hypertension</th><th scope=col>T2DM</th><th scope=col>CHD</th><th scope=col>stroke</th></tr>\n",
       "\t<tr><th scope=col>&lt;dbl&gt;</th><th scope=col>&lt;chr&gt;</th><th scope=col>&lt;dbl&gt;</th><th scope=col>&lt;dbl&gt;</th><th scope=col>&lt;dbl&gt;</th><th scope=col>&lt;dbl&gt;</th></tr>\n",
       "</thead>\n",
       "<tbody>\n",
       "\t<tr><td>0</td><td>L0001</td><td>1</td><td>1</td><td>0</td><td>0</td></tr>\n",
       "\t<tr><td>0</td><td>L0002</td><td>0</td><td>1</td><td>0</td><td>0</td></tr>\n",
       "\t<tr><td>0</td><td>L0003</td><td>1</td><td>0</td><td>1</td><td>0</td></tr>\n",
       "\t<tr><td>0</td><td>L0004</td><td>0</td><td>0</td><td>0</td><td>0</td></tr>\n",
       "\t<tr><td>0</td><td>L0005</td><td>1</td><td>0</td><td>0</td><td>0</td></tr>\n",
       "\t<tr><td>0</td><td>L0006</td><td>0</td><td>0</td><td>0</td><td>0</td></tr>\n",
       "</tbody>\n",
       "</table>\n"
      ],
      "text/latex": [
       "A tibble: 6 × 6\n",
       "\\begin{tabular}{llllll}\n",
       " FID & IID & hypertension & T2DM & CHD & stroke\\\\\n",
       " <dbl> & <chr> & <dbl> & <dbl> & <dbl> & <dbl>\\\\\n",
       "\\hline\n",
       "\t 0 & L0001 & 1 & 1 & 0 & 0\\\\\n",
       "\t 0 & L0002 & 0 & 1 & 0 & 0\\\\\n",
       "\t 0 & L0003 & 1 & 0 & 1 & 0\\\\\n",
       "\t 0 & L0004 & 0 & 0 & 0 & 0\\\\\n",
       "\t 0 & L0005 & 1 & 0 & 0 & 0\\\\\n",
       "\t 0 & L0006 & 0 & 0 & 0 & 0\\\\\n",
       "\\end{tabular}\n"
      ],
      "text/markdown": [
       "\n",
       "A tibble: 6 × 6\n",
       "\n",
       "| FID &lt;dbl&gt; | IID &lt;chr&gt; | hypertension &lt;dbl&gt; | T2DM &lt;dbl&gt; | CHD &lt;dbl&gt; | stroke &lt;dbl&gt; |\n",
       "|---|---|---|---|---|---|\n",
       "| 0 | L0001 | 1 | 1 | 0 | 0 |\n",
       "| 0 | L0002 | 0 | 1 | 0 | 0 |\n",
       "| 0 | L0003 | 1 | 0 | 1 | 0 |\n",
       "| 0 | L0004 | 0 | 0 | 0 | 0 |\n",
       "| 0 | L0005 | 1 | 0 | 0 | 0 |\n",
       "| 0 | L0006 | 0 | 0 | 0 | 0 |\n",
       "\n"
      ],
      "text/plain": [
       "  FID IID   hypertension T2DM CHD stroke\n",
       "1 0   L0001 1            1    0   0     \n",
       "2 0   L0002 0            1    0   0     \n",
       "3 0   L0003 1            0    1   0     \n",
       "4 0   L0004 0            0    0   0     \n",
       "5 0   L0005 1            0    0   0     \n",
       "6 0   L0006 0            0    0   0     "
      ]
     },
     "metadata": {},
     "output_type": "display_data"
    },
    {
     "data": {
      "text/html": [
       "<table class=\"dataframe\">\n",
       "<caption>A tibble: 6 × 3</caption>\n",
       "<thead>\n",
       "\t<tr><th scope=col>FID</th><th scope=col>IID</th><th scope=col>ncd</th></tr>\n",
       "\t<tr><th scope=col>&lt;dbl&gt;</th><th scope=col>&lt;chr&gt;</th><th scope=col>&lt;dbl&gt;</th></tr>\n",
       "</thead>\n",
       "<tbody>\n",
       "\t<tr><td>0</td><td>L0001</td><td>0</td></tr>\n",
       "\t<tr><td>0</td><td>L0002</td><td>0</td></tr>\n",
       "\t<tr><td>0</td><td>L0003</td><td>0</td></tr>\n",
       "\t<tr><td>0</td><td>L0004</td><td>0</td></tr>\n",
       "\t<tr><td>0</td><td>L0005</td><td>0</td></tr>\n",
       "\t<tr><td>0</td><td>L0006</td><td>1</td></tr>\n",
       "</tbody>\n",
       "</table>\n"
      ],
      "text/latex": [
       "A tibble: 6 × 3\n",
       "\\begin{tabular}{lll}\n",
       " FID & IID & ncd\\\\\n",
       " <dbl> & <chr> & <dbl>\\\\\n",
       "\\hline\n",
       "\t 0 & L0001 & 0\\\\\n",
       "\t 0 & L0002 & 0\\\\\n",
       "\t 0 & L0003 & 0\\\\\n",
       "\t 0 & L0004 & 0\\\\\n",
       "\t 0 & L0005 & 0\\\\\n",
       "\t 0 & L0006 & 1\\\\\n",
       "\\end{tabular}\n"
      ],
      "text/markdown": [
       "\n",
       "A tibble: 6 × 3\n",
       "\n",
       "| FID &lt;dbl&gt; | IID &lt;chr&gt; | ncd &lt;dbl&gt; |\n",
       "|---|---|---|\n",
       "| 0 | L0001 | 0 |\n",
       "| 0 | L0002 | 0 |\n",
       "| 0 | L0003 | 0 |\n",
       "| 0 | L0004 | 0 |\n",
       "| 0 | L0005 | 0 |\n",
       "| 0 | L0006 | 1 |\n",
       "\n"
      ],
      "text/plain": [
       "  FID IID   ncd\n",
       "1 0   L0001 0  \n",
       "2 0   L0002 0  \n",
       "3 0   L0003 0  \n",
       "4 0   L0004 0  \n",
       "5 0   L0005 0  \n",
       "6 0   L0006 1  "
      ]
     },
     "metadata": {},
     "output_type": "display_data"
    }
   ],
   "source": [
    "## read data\n",
    "pbin <- read_tsv(\"binary_phenotypes_regenie.tsv\")\n",
    "pconc <- read_tsv(\"continuous_phenotype_regenie.tsv\")\n",
    "head(pbin)\n",
    "head(pconc)"
   ]
  },
  {
   "cell_type": "code",
   "execution_count": 19,
   "metadata": {},
   "outputs": [
    {
     "data": {
      "text/html": [
       "<style>\n",
       ".list-inline {list-style: none; margin:0; padding: 0}\n",
       ".list-inline>li {display: inline-block}\n",
       ".list-inline>li:not(:last-child)::after {content: \"\\00b7\"; padding: 0 .5ex}\n",
       "</style>\n",
       "<ol class=list-inline><li>400</li><li>6</li></ol>\n"
      ],
      "text/latex": [
       "\\begin{enumerate*}\n",
       "\\item 400\n",
       "\\item 6\n",
       "\\end{enumerate*}\n"
      ],
      "text/markdown": [
       "1. 400\n",
       "2. 6\n",
       "\n",
       "\n"
      ],
      "text/plain": [
       "[1] 400   6"
      ]
     },
     "metadata": {},
     "output_type": "display_data"
    },
    {
     "data": {
      "text/html": [
       "<table class=\"dataframe\">\n",
       "<caption>A tibble: 15 × 6</caption>\n",
       "<thead>\n",
       "\t<tr><th scope=col>FID</th><th scope=col>IID</th><th scope=col>hypertension</th><th scope=col>T2DM</th><th scope=col>CHD</th><th scope=col>stroke</th></tr>\n",
       "\t<tr><th scope=col>&lt;dbl&gt;</th><th scope=col>&lt;chr&gt;</th><th scope=col>&lt;dbl&gt;</th><th scope=col>&lt;dbl&gt;</th><th scope=col>&lt;dbl&gt;</th><th scope=col>&lt;dbl&gt;</th></tr>\n",
       "</thead>\n",
       "<tbody>\n",
       "\t<tr><td>0</td><td>L1 </td><td>1</td><td>1</td><td>0</td><td>0</td></tr>\n",
       "\t<tr><td>0</td><td>L2 </td><td>0</td><td>1</td><td>0</td><td>0</td></tr>\n",
       "\t<tr><td>0</td><td>L3 </td><td>1</td><td>0</td><td>1</td><td>0</td></tr>\n",
       "\t<tr><td>0</td><td>L4 </td><td>0</td><td>0</td><td>0</td><td>0</td></tr>\n",
       "\t<tr><td>0</td><td>L5 </td><td>1</td><td>0</td><td>0</td><td>0</td></tr>\n",
       "\t<tr><td>0</td><td>L6 </td><td>0</td><td>0</td><td>0</td><td>0</td></tr>\n",
       "\t<tr><td>0</td><td>L7 </td><td>0</td><td>1</td><td>0</td><td>1</td></tr>\n",
       "\t<tr><td>0</td><td>L8 </td><td>0</td><td>0</td><td>0</td><td>0</td></tr>\n",
       "\t<tr><td>0</td><td>L9 </td><td>0</td><td>0</td><td>0</td><td>0</td></tr>\n",
       "\t<tr><td>0</td><td>L10</td><td>1</td><td>0</td><td>0</td><td>0</td></tr>\n",
       "\t<tr><td>0</td><td>L11</td><td>1</td><td>1</td><td>0</td><td>0</td></tr>\n",
       "\t<tr><td>0</td><td>L12</td><td>1</td><td>1</td><td>0</td><td>0</td></tr>\n",
       "\t<tr><td>0</td><td>L13</td><td>1</td><td>1</td><td>0</td><td>0</td></tr>\n",
       "\t<tr><td>0</td><td>L14</td><td>1</td><td>1</td><td>0</td><td>0</td></tr>\n",
       "\t<tr><td>0</td><td>L15</td><td>1</td><td>1</td><td>0</td><td>0</td></tr>\n",
       "</tbody>\n",
       "</table>\n"
      ],
      "text/latex": [
       "A tibble: 15 × 6\n",
       "\\begin{tabular}{llllll}\n",
       " FID & IID & hypertension & T2DM & CHD & stroke\\\\\n",
       " <dbl> & <chr> & <dbl> & <dbl> & <dbl> & <dbl>\\\\\n",
       "\\hline\n",
       "\t 0 & L1  & 1 & 1 & 0 & 0\\\\\n",
       "\t 0 & L2  & 0 & 1 & 0 & 0\\\\\n",
       "\t 0 & L3  & 1 & 0 & 1 & 0\\\\\n",
       "\t 0 & L4  & 0 & 0 & 0 & 0\\\\\n",
       "\t 0 & L5  & 1 & 0 & 0 & 0\\\\\n",
       "\t 0 & L6  & 0 & 0 & 0 & 0\\\\\n",
       "\t 0 & L7  & 0 & 1 & 0 & 1\\\\\n",
       "\t 0 & L8  & 0 & 0 & 0 & 0\\\\\n",
       "\t 0 & L9  & 0 & 0 & 0 & 0\\\\\n",
       "\t 0 & L10 & 1 & 0 & 0 & 0\\\\\n",
       "\t 0 & L11 & 1 & 1 & 0 & 0\\\\\n",
       "\t 0 & L12 & 1 & 1 & 0 & 0\\\\\n",
       "\t 0 & L13 & 1 & 1 & 0 & 0\\\\\n",
       "\t 0 & L14 & 1 & 1 & 0 & 0\\\\\n",
       "\t 0 & L15 & 1 & 1 & 0 & 0\\\\\n",
       "\\end{tabular}\n"
      ],
      "text/markdown": [
       "\n",
       "A tibble: 15 × 6\n",
       "\n",
       "| FID &lt;dbl&gt; | IID &lt;chr&gt; | hypertension &lt;dbl&gt; | T2DM &lt;dbl&gt; | CHD &lt;dbl&gt; | stroke &lt;dbl&gt; |\n",
       "|---|---|---|---|---|---|\n",
       "| 0 | L1  | 1 | 1 | 0 | 0 |\n",
       "| 0 | L2  | 0 | 1 | 0 | 0 |\n",
       "| 0 | L3  | 1 | 0 | 1 | 0 |\n",
       "| 0 | L4  | 0 | 0 | 0 | 0 |\n",
       "| 0 | L5  | 1 | 0 | 0 | 0 |\n",
       "| 0 | L6  | 0 | 0 | 0 | 0 |\n",
       "| 0 | L7  | 0 | 1 | 0 | 1 |\n",
       "| 0 | L8  | 0 | 0 | 0 | 0 |\n",
       "| 0 | L9  | 0 | 0 | 0 | 0 |\n",
       "| 0 | L10 | 1 | 0 | 0 | 0 |\n",
       "| 0 | L11 | 1 | 1 | 0 | 0 |\n",
       "| 0 | L12 | 1 | 1 | 0 | 0 |\n",
       "| 0 | L13 | 1 | 1 | 0 | 0 |\n",
       "| 0 | L14 | 1 | 1 | 0 | 0 |\n",
       "| 0 | L15 | 1 | 1 | 0 | 0 |\n",
       "\n"
      ],
      "text/plain": [
       "   FID IID hypertension T2DM CHD stroke\n",
       "1  0   L1  1            1    0   0     \n",
       "2  0   L2  0            1    0   0     \n",
       "3  0   L3  1            0    1   0     \n",
       "4  0   L4  0            0    0   0     \n",
       "5  0   L5  1            0    0   0     \n",
       "6  0   L6  0            0    0   0     \n",
       "7  0   L7  0            1    0   1     \n",
       "8  0   L8  0            0    0   0     \n",
       "9  0   L9  0            0    0   0     \n",
       "10 0   L10 1            0    0   0     \n",
       "11 0   L11 1            1    0   0     \n",
       "12 0   L12 1            1    0   0     \n",
       "13 0   L13 1            1    0   0     \n",
       "14 0   L14 1            1    0   0     \n",
       "15 0   L15 1            1    0   0     "
      ]
     },
     "metadata": {},
     "output_type": "display_data"
    }
   ],
   "source": [
    "## add 390 rows of syntheic\n",
    "pbin_dup <- rbind(pbin, pbin[rep(1, 390), ])\n",
    "dim(pbin_dup)\n",
    "## fix ID\n",
    "id <- seq(1, 400)\n",
    "id <- paste(\"L\", id, sep=\"\")\n",
    "pbin_dup$IID <- id\n",
    "head(pbin_dup, 15)"
   ]
  },
  {
   "cell_type": "code",
   "execution_count": 37,
   "metadata": {},
   "outputs": [
    {
     "data": {
      "text/html": [
       "<table class=\"dataframe\">\n",
       "<caption>A tibble: 11 × 3</caption>\n",
       "<thead>\n",
       "\t<tr><th scope=col>FID</th><th scope=col>IID</th><th scope=col>ncd</th></tr>\n",
       "\t<tr><th scope=col>&lt;chr&gt;</th><th scope=col>&lt;chr&gt;</th><th scope=col>&lt;chr&gt;</th></tr>\n",
       "</thead>\n",
       "<tbody>\n",
       "\t<tr><td>0</td><td>L0001</td><td>0</td></tr>\n",
       "\t<tr><td>0</td><td>L0002</td><td>0</td></tr>\n",
       "\t<tr><td>0</td><td>L0003</td><td>0</td></tr>\n",
       "\t<tr><td>0</td><td>L0004</td><td>0</td></tr>\n",
       "\t<tr><td>0</td><td>L0005</td><td>0</td></tr>\n",
       "\t<tr><td>0</td><td>L0006</td><td>1</td></tr>\n",
       "\t<tr><td>0</td><td>L0007</td><td>0</td></tr>\n",
       "\t<tr><td>0</td><td>L0008</td><td>0</td></tr>\n",
       "\t<tr><td>0</td><td>L0009</td><td>0</td></tr>\n",
       "\t<tr><td>0</td><td>L0010</td><td>0</td></tr>\n",
       "\t<tr><td>0</td><td>l    </td><td>2</td></tr>\n",
       "</tbody>\n",
       "</table>\n"
      ],
      "text/latex": [
       "A tibble: 11 × 3\n",
       "\\begin{tabular}{lll}\n",
       " FID & IID & ncd\\\\\n",
       " <chr> & <chr> & <chr>\\\\\n",
       "\\hline\n",
       "\t 0 & L0001 & 0\\\\\n",
       "\t 0 & L0002 & 0\\\\\n",
       "\t 0 & L0003 & 0\\\\\n",
       "\t 0 & L0004 & 0\\\\\n",
       "\t 0 & L0005 & 0\\\\\n",
       "\t 0 & L0006 & 1\\\\\n",
       "\t 0 & L0007 & 0\\\\\n",
       "\t 0 & L0008 & 0\\\\\n",
       "\t 0 & L0009 & 0\\\\\n",
       "\t 0 & L0010 & 0\\\\\n",
       "\t 0 & l     & 2\\\\\n",
       "\\end{tabular}\n"
      ],
      "text/markdown": [
       "\n",
       "A tibble: 11 × 3\n",
       "\n",
       "| FID &lt;chr&gt; | IID &lt;chr&gt; | ncd &lt;chr&gt; |\n",
       "|---|---|---|\n",
       "| 0 | L0001 | 0 |\n",
       "| 0 | L0002 | 0 |\n",
       "| 0 | L0003 | 0 |\n",
       "| 0 | L0004 | 0 |\n",
       "| 0 | L0005 | 0 |\n",
       "| 0 | L0006 | 1 |\n",
       "| 0 | L0007 | 0 |\n",
       "| 0 | L0008 | 0 |\n",
       "| 0 | L0009 | 0 |\n",
       "| 0 | L0010 | 0 |\n",
       "| 0 | l     | 2 |\n",
       "\n"
      ],
      "text/plain": [
       "   FID IID   ncd\n",
       "1  0   L0001 0  \n",
       "2  0   L0002 0  \n",
       "3  0   L0003 0  \n",
       "4  0   L0004 0  \n",
       "5  0   L0005 0  \n",
       "6  0   L0006 1  \n",
       "7  0   L0007 0  \n",
       "8  0   L0008 0  \n",
       "9  0   L0009 0  \n",
       "10 0   L0010 0  \n",
       "11 0   l     2  "
      ]
     },
     "metadata": {},
     "output_type": "display_data"
    },
    {
     "data": {
      "text/html": [
       "<style>\n",
       ".list-inline {list-style: none; margin:0; padding: 0}\n",
       ".list-inline>li {display: inline-block}\n",
       ".list-inline>li:not(:last-child)::after {content: \"\\00b7\"; padding: 0 .5ex}\n",
       "</style>\n",
       "<ol class=list-inline><li>400</li><li>3</li></ol>\n"
      ],
      "text/latex": [
       "\\begin{enumerate*}\n",
       "\\item 400\n",
       "\\item 3\n",
       "\\end{enumerate*}\n"
      ],
      "text/markdown": [
       "1. 400\n",
       "2. 3\n",
       "\n",
       "\n"
      ],
      "text/plain": [
       "[1] 400   3"
      ]
     },
     "metadata": {},
     "output_type": "display_data"
    },
    {
     "data": {
      "text/html": [
       "<table class=\"dataframe\">\n",
       "<caption>A tibble: 15 × 3</caption>\n",
       "<thead>\n",
       "\t<tr><th scope=col>FID</th><th scope=col>IID</th><th scope=col>ncd</th></tr>\n",
       "\t<tr><th scope=col>&lt;chr&gt;</th><th scope=col>&lt;chr&gt;</th><th scope=col>&lt;chr&gt;</th></tr>\n",
       "</thead>\n",
       "<tbody>\n",
       "\t<tr><td>0</td><td>L1 </td><td>0</td></tr>\n",
       "\t<tr><td>0</td><td>L2 </td><td>0</td></tr>\n",
       "\t<tr><td>0</td><td>L3 </td><td>0</td></tr>\n",
       "\t<tr><td>0</td><td>L4 </td><td>0</td></tr>\n",
       "\t<tr><td>0</td><td>L5 </td><td>0</td></tr>\n",
       "\t<tr><td>0</td><td>L6 </td><td>1</td></tr>\n",
       "\t<tr><td>0</td><td>L7 </td><td>0</td></tr>\n",
       "\t<tr><td>0</td><td>L8 </td><td>0</td></tr>\n",
       "\t<tr><td>0</td><td>L9 </td><td>0</td></tr>\n",
       "\t<tr><td>0</td><td>L10</td><td>0</td></tr>\n",
       "\t<tr><td>0</td><td>L11</td><td>2</td></tr>\n",
       "\t<tr><td>0</td><td>L12</td><td>0</td></tr>\n",
       "\t<tr><td>0</td><td>L13</td><td>1</td></tr>\n",
       "\t<tr><td>0</td><td>L14</td><td>0</td></tr>\n",
       "\t<tr><td>0</td><td>L15</td><td>0</td></tr>\n",
       "</tbody>\n",
       "</table>\n"
      ],
      "text/latex": [
       "A tibble: 15 × 3\n",
       "\\begin{tabular}{lll}\n",
       " FID & IID & ncd\\\\\n",
       " <chr> & <chr> & <chr>\\\\\n",
       "\\hline\n",
       "\t 0 & L1  & 0\\\\\n",
       "\t 0 & L2  & 0\\\\\n",
       "\t 0 & L3  & 0\\\\\n",
       "\t 0 & L4  & 0\\\\\n",
       "\t 0 & L5  & 0\\\\\n",
       "\t 0 & L6  & 1\\\\\n",
       "\t 0 & L7  & 0\\\\\n",
       "\t 0 & L8  & 0\\\\\n",
       "\t 0 & L9  & 0\\\\\n",
       "\t 0 & L10 & 0\\\\\n",
       "\t 0 & L11 & 2\\\\\n",
       "\t 0 & L12 & 0\\\\\n",
       "\t 0 & L13 & 1\\\\\n",
       "\t 0 & L14 & 0\\\\\n",
       "\t 0 & L15 & 0\\\\\n",
       "\\end{tabular}\n"
      ],
      "text/markdown": [
       "\n",
       "A tibble: 15 × 3\n",
       "\n",
       "| FID &lt;chr&gt; | IID &lt;chr&gt; | ncd &lt;chr&gt; |\n",
       "|---|---|---|\n",
       "| 0 | L1  | 0 |\n",
       "| 0 | L2  | 0 |\n",
       "| 0 | L3  | 0 |\n",
       "| 0 | L4  | 0 |\n",
       "| 0 | L5  | 0 |\n",
       "| 0 | L6  | 1 |\n",
       "| 0 | L7  | 0 |\n",
       "| 0 | L8  | 0 |\n",
       "| 0 | L9  | 0 |\n",
       "| 0 | L10 | 0 |\n",
       "| 0 | L11 | 2 |\n",
       "| 0 | L12 | 0 |\n",
       "| 0 | L13 | 1 |\n",
       "| 0 | L14 | 0 |\n",
       "| 0 | L15 | 0 |\n",
       "\n"
      ],
      "text/plain": [
       "   FID IID ncd\n",
       "1  0   L1  0  \n",
       "2  0   L2  0  \n",
       "3  0   L3  0  \n",
       "4  0   L4  0  \n",
       "5  0   L5  0  \n",
       "6  0   L6  1  \n",
       "7  0   L7  0  \n",
       "8  0   L8  0  \n",
       "9  0   L9  0  \n",
       "10 0   L10 0  \n",
       "11 0   L11 2  \n",
       "12 0   L12 0  \n",
       "13 0   L13 1  \n",
       "14 0   L14 0  \n",
       "15 0   L15 0  "
      ]
     },
     "metadata": {},
     "output_type": "display_data"
    }
   ],
   "source": [
    "## add a row with the conc var as 2\n",
    "conc2 <- c(0, \"l\", 2)\n",
    "pconc2 <- rbind(pconc, conc2)\n",
    "head(pconc2,11)\n",
    "## add 390 rows of syntheic\n",
    "set.seed(1234)\n",
    "pconc_dup <- rbind(pconc2, pconc2[sample(1:nrow(pconc2), 389, replace=TRUE), ])\n",
    "dim(pconc_dup)\n",
    "## fix ID\n",
    "id <- seq(1, 400)\n",
    "id <- paste(\"L\", id, sep=\"\")\n",
    "pconc_dup$IID <- id\n",
    "head(pconc_dup, 15)"
   ]
  },
  {
   "cell_type": "code",
   "execution_count": 38,
   "metadata": {},
   "outputs": [],
   "source": [
    "## save files\n",
    "write_tsv(pbin_dup, \"binary_phenotypes_regenie_400.tsv\")\n",
    "write_tsv(pconc_dup, \"continuous_phenotype_regenie_400.tsv\")"
   ]
  },
  {
   "cell_type": "markdown",
   "metadata": {},
   "source": [
    "# Check the genetic info file"
   ]
  },
  {
   "cell_type": "code",
   "execution_count": 18,
   "metadata": {},
   "outputs": [
    {
     "name": "stderr",
     "output_type": "stream",
     "text": [
      "Warning message:\n",
      "“One or more parsing issues, see `problems()` for details”\n",
      "\u001b[1mRows: \u001b[22m\u001b[34m3738242\u001b[39m \u001b[1mColumns: \u001b[22m\u001b[34m13\u001b[39m\n",
      "\n",
      "\u001b[36m──\u001b[39m \u001b[1mColumn specification\u001b[22m \u001b[36m────────────────────────────────────────────────────────\u001b[39m\n",
      "\u001b[1mDelimiter:\u001b[22m \"\\t\"\n",
      "\u001b[31mchr\u001b[39m (9): SNP, REF(0), ALT(1), Genotyped, LooRsq, EmpR, EmpRsq, Dose0, Dose1\n",
      "\u001b[32mdbl\u001b[39m (4): ALT_Frq, MAF, AvgCall, Rsq\n",
      "\n",
      "\n",
      "\u001b[36mℹ\u001b[39m Use \u001b[30m\u001b[47m\u001b[30m\u001b[47m`spec()`\u001b[47m\u001b[30m\u001b[49m\u001b[39m to retrieve the full column specification for this data.\n",
      "\u001b[36mℹ\u001b[39m Specify the column types or set \u001b[30m\u001b[47m\u001b[30m\u001b[47m`show_col_types = FALSE`\u001b[47m\u001b[30m\u001b[49m\u001b[39m to quiet this message.\n",
      "\n"
     ]
    },
    {
     "data": {
      "text/html": [
       "<table class=\"dataframe\">\n",
       "<caption>A tibble: 6 × 13</caption>\n",
       "<thead>\n",
       "\t<tr><th scope=col>SNP</th><th scope=col>REF(0)</th><th scope=col>ALT(1)</th><th scope=col>ALT_Frq</th><th scope=col>MAF</th><th scope=col>AvgCall</th><th scope=col>Rsq</th><th scope=col>Genotyped</th><th scope=col>LooRsq</th><th scope=col>EmpR</th><th scope=col>EmpRsq</th><th scope=col>Dose0</th><th scope=col>Dose1</th></tr>\n",
       "\t<tr><th scope=col>&lt;chr&gt;</th><th scope=col>&lt;chr&gt;</th><th scope=col>&lt;chr&gt;</th><th scope=col>&lt;dbl&gt;</th><th scope=col>&lt;dbl&gt;</th><th scope=col>&lt;dbl&gt;</th><th scope=col>&lt;dbl&gt;</th><th scope=col>&lt;chr&gt;</th><th scope=col>&lt;chr&gt;</th><th scope=col>&lt;chr&gt;</th><th scope=col>&lt;chr&gt;</th><th scope=col>&lt;chr&gt;</th><th scope=col>&lt;chr&gt;</th></tr>\n",
       "</thead>\n",
       "<tbody>\n",
       "\t<tr><td>1:10177:A:AC                    </td><td>A                     </td><td>AC</td><td>0.38422</td><td>0.38422</td><td>0.70009</td><td>0.18895</td><td>Imputed</td><td>-</td><td>-</td><td>-</td><td>-</td><td>-</td></tr>\n",
       "\t<tr><td>1:10235:T:TA                    </td><td>T                     </td><td>TA</td><td>0.04784</td><td>0.04784</td><td>0.99431</td><td>0.88221</td><td>Imputed</td><td>-</td><td>-</td><td>-</td><td>-</td><td>-</td></tr>\n",
       "\t<tr><td>1:10352:T:TA                    </td><td>T                     </td><td>TA</td><td>0.35558</td><td>0.35558</td><td>0.73226</td><td>0.22073</td><td>Imputed</td><td>-</td><td>-</td><td>-</td><td>-</td><td>-</td></tr>\n",
       "\t<tr><td>1:10539:C:A                     </td><td>C                     </td><td>A </td><td>0.00037</td><td>0.00037</td><td>0.99963</td><td>0.00030</td><td>Imputed</td><td>-</td><td>-</td><td>-</td><td>-</td><td>-</td></tr>\n",
       "\t<tr><td>1:10616:CCGCCGTTGCAAAGGCGCGCCG:C</td><td>CCGCCGTTGCAAAGGCGCGCCG</td><td>C </td><td>0.91274</td><td>0.08726</td><td>0.91274</td><td>0.00470</td><td>Imputed</td><td>-</td><td>-</td><td>-</td><td>-</td><td>-</td></tr>\n",
       "\t<tr><td>1:10642:G:A                     </td><td>G                     </td><td>A </td><td>0.00224</td><td>0.00224</td><td>0.99776</td><td>0.01539</td><td>Imputed</td><td>-</td><td>-</td><td>-</td><td>-</td><td>-</td></tr>\n",
       "</tbody>\n",
       "</table>\n"
      ],
      "text/latex": [
       "A tibble: 6 × 13\n",
       "\\begin{tabular}{lllllllllllll}\n",
       " SNP & REF(0) & ALT(1) & ALT\\_Frq & MAF & AvgCall & Rsq & Genotyped & LooRsq & EmpR & EmpRsq & Dose0 & Dose1\\\\\n",
       " <chr> & <chr> & <chr> & <dbl> & <dbl> & <dbl> & <dbl> & <chr> & <chr> & <chr> & <chr> & <chr> & <chr>\\\\\n",
       "\\hline\n",
       "\t 1:10177:A:AC                     & A                      & AC & 0.38422 & 0.38422 & 0.70009 & 0.18895 & Imputed & - & - & - & - & -\\\\\n",
       "\t 1:10235:T:TA                     & T                      & TA & 0.04784 & 0.04784 & 0.99431 & 0.88221 & Imputed & - & - & - & - & -\\\\\n",
       "\t 1:10352:T:TA                     & T                      & TA & 0.35558 & 0.35558 & 0.73226 & 0.22073 & Imputed & - & - & - & - & -\\\\\n",
       "\t 1:10539:C:A                      & C                      & A  & 0.00037 & 0.00037 & 0.99963 & 0.00030 & Imputed & - & - & - & - & -\\\\\n",
       "\t 1:10616:CCGCCGTTGCAAAGGCGCGCCG:C & CCGCCGTTGCAAAGGCGCGCCG & C  & 0.91274 & 0.08726 & 0.91274 & 0.00470 & Imputed & - & - & - & - & -\\\\\n",
       "\t 1:10642:G:A                      & G                      & A  & 0.00224 & 0.00224 & 0.99776 & 0.01539 & Imputed & - & - & - & - & -\\\\\n",
       "\\end{tabular}\n"
      ],
      "text/markdown": [
       "\n",
       "A tibble: 6 × 13\n",
       "\n",
       "| SNP &lt;chr&gt; | REF(0) &lt;chr&gt; | ALT(1) &lt;chr&gt; | ALT_Frq &lt;dbl&gt; | MAF &lt;dbl&gt; | AvgCall &lt;dbl&gt; | Rsq &lt;dbl&gt; | Genotyped &lt;chr&gt; | LooRsq &lt;chr&gt; | EmpR &lt;chr&gt; | EmpRsq &lt;chr&gt; | Dose0 &lt;chr&gt; | Dose1 &lt;chr&gt; |\n",
       "|---|---|---|---|---|---|---|---|---|---|---|---|---|\n",
       "| 1:10177:A:AC                     | A                      | AC | 0.38422 | 0.38422 | 0.70009 | 0.18895 | Imputed | - | - | - | - | - |\n",
       "| 1:10235:T:TA                     | T                      | TA | 0.04784 | 0.04784 | 0.99431 | 0.88221 | Imputed | - | - | - | - | - |\n",
       "| 1:10352:T:TA                     | T                      | TA | 0.35558 | 0.35558 | 0.73226 | 0.22073 | Imputed | - | - | - | - | - |\n",
       "| 1:10539:C:A                      | C                      | A  | 0.00037 | 0.00037 | 0.99963 | 0.00030 | Imputed | - | - | - | - | - |\n",
       "| 1:10616:CCGCCGTTGCAAAGGCGCGCCG:C | CCGCCGTTGCAAAGGCGCGCCG | C  | 0.91274 | 0.08726 | 0.91274 | 0.00470 | Imputed | - | - | - | - | - |\n",
       "| 1:10642:G:A                      | G                      | A  | 0.00224 | 0.00224 | 0.99776 | 0.01539 | Imputed | - | - | - | - | - |\n",
       "\n"
      ],
      "text/plain": [
       "  SNP                              REF(0)                 ALT(1) ALT_Frq\n",
       "1 1:10177:A:AC                     A                      AC     0.38422\n",
       "2 1:10235:T:TA                     T                      TA     0.04784\n",
       "3 1:10352:T:TA                     T                      TA     0.35558\n",
       "4 1:10539:C:A                      C                      A      0.00037\n",
       "5 1:10616:CCGCCGTTGCAAAGGCGCGCCG:C CCGCCGTTGCAAAGGCGCGCCG C      0.91274\n",
       "6 1:10642:G:A                      G                      A      0.00224\n",
       "  MAF     AvgCall Rsq     Genotyped LooRsq EmpR EmpRsq Dose0 Dose1\n",
       "1 0.38422 0.70009 0.18895 Imputed   -      -    -      -     -    \n",
       "2 0.04784 0.99431 0.88221 Imputed   -      -    -      -     -    \n",
       "3 0.35558 0.73226 0.22073 Imputed   -      -    -      -     -    \n",
       "4 0.00037 0.99963 0.00030 Imputed   -      -    -      -     -    \n",
       "5 0.08726 0.91274 0.00470 Imputed   -      -    -      -     -    \n",
       "6 0.00224 0.99776 0.01539 Imputed   -      -    -      -     -    "
      ]
     },
     "metadata": {},
     "output_type": "display_data"
    }
   ],
   "source": [
    "ch1_info <- read_tsv(\"chr1.info\")\n",
    "head(ch1_info)"
   ]
  },
  {
   "cell_type": "code",
   "execution_count": 19,
   "metadata": {},
   "outputs": [
    {
     "data": {
      "text/html": [
       "<style>\n",
       ".list-inline {list-style: none; margin:0; padding: 0}\n",
       ".list-inline>li {display: inline-block}\n",
       ".list-inline>li:not(:last-child)::after {content: \"\\00b7\"; padding: 0 .5ex}\n",
       "</style>\n",
       "<ol class=list-inline><li>'Imputed'</li><li>'Genotyped'</li><li>'Typed_Only'</li></ol>\n"
      ],
      "text/latex": [
       "\\begin{enumerate*}\n",
       "\\item 'Imputed'\n",
       "\\item 'Genotyped'\n",
       "\\item 'Typed\\_Only'\n",
       "\\end{enumerate*}\n"
      ],
      "text/markdown": [
       "1. 'Imputed'\n",
       "2. 'Genotyped'\n",
       "3. 'Typed_Only'\n",
       "\n",
       "\n"
      ],
      "text/plain": [
       "[1] \"Imputed\"    \"Genotyped\"  \"Typed_Only\""
      ]
     },
     "metadata": {},
     "output_type": "display_data"
    }
   ],
   "source": [
    "unique(ch1_info$Genotyped)"
   ]
  },
  {
   "cell_type": "code",
   "execution_count": null,
   "metadata": {},
   "outputs": [],
   "source": []
  }
 ],
 "metadata": {
  "kernelspec": {
   "display_name": "R",
   "language": "R",
   "name": "ir"
  },
  "language_info": {
   "codemirror_mode": "r",
   "file_extension": ".r",
   "mimetype": "text/x-r-source",
   "name": "R",
   "pygments_lexer": "r",
   "version": "4.1.2"
  }
 },
 "nbformat": 4,
 "nbformat_minor": 4
}
